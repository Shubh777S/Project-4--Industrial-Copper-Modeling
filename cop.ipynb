{
 "cells": [
  {
   "cell_type": "code",
   "execution_count": 172,
   "metadata": {},
   "outputs": [],
   "source": [
    "import pandas as pd\n",
    "import warnings\n",
    "warnings.filterwarnings(\"ignore\")\n",
    "from datetime import datetime, timedelta\n",
    "import numpy as np\n",
    "from sklearn.preprocessing import OrdinalEncoder\n",
    "import matplotlib.pyplot as plt\n",
    "import plotly as px\n",
    "import seaborn as sns"
   ]
  },
  {
   "cell_type": "code",
   "execution_count": 173,
   "metadata": {},
   "outputs": [
    {
     "data": {
      "text/html": [
       "<div>\n",
       "<style scoped>\n",
       "    .dataframe tbody tr th:only-of-type {\n",
       "        vertical-align: middle;\n",
       "    }\n",
       "\n",
       "    .dataframe tbody tr th {\n",
       "        vertical-align: top;\n",
       "    }\n",
       "\n",
       "    .dataframe thead th {\n",
       "        text-align: right;\n",
       "    }\n",
       "</style>\n",
       "<table border=\"1\" class=\"dataframe\">\n",
       "  <thead>\n",
       "    <tr style=\"text-align: right;\">\n",
       "      <th></th>\n",
       "      <th>id</th>\n",
       "      <th>item_date</th>\n",
       "      <th>quantity tons</th>\n",
       "      <th>customer</th>\n",
       "      <th>country</th>\n",
       "      <th>status</th>\n",
       "      <th>item type</th>\n",
       "      <th>application</th>\n",
       "      <th>thickness</th>\n",
       "      <th>width</th>\n",
       "      <th>material_ref</th>\n",
       "      <th>product_ref</th>\n",
       "      <th>delivery date</th>\n",
       "      <th>selling_price</th>\n",
       "    </tr>\n",
       "  </thead>\n",
       "  <tbody>\n",
       "    <tr>\n",
       "      <th>0</th>\n",
       "      <td>EC06F063-9DF0-440C-8764-0B0C05A4F6AE</td>\n",
       "      <td>20210401.0</td>\n",
       "      <td>54.151139</td>\n",
       "      <td>30156308.0</td>\n",
       "      <td>28.0</td>\n",
       "      <td>Won</td>\n",
       "      <td>W</td>\n",
       "      <td>10.0</td>\n",
       "      <td>2.00</td>\n",
       "      <td>1500.0</td>\n",
       "      <td>DEQ1 S460MC</td>\n",
       "      <td>1670798778</td>\n",
       "      <td>20210701.0</td>\n",
       "      <td>854.00</td>\n",
       "    </tr>\n",
       "    <tr>\n",
       "      <th>1</th>\n",
       "      <td>4E5F4B3D-DDDF-499D-AFDE-A3227EC49425</td>\n",
       "      <td>20210401.0</td>\n",
       "      <td>768.024839</td>\n",
       "      <td>30202938.0</td>\n",
       "      <td>25.0</td>\n",
       "      <td>Won</td>\n",
       "      <td>W</td>\n",
       "      <td>41.0</td>\n",
       "      <td>0.80</td>\n",
       "      <td>1210.0</td>\n",
       "      <td>0000000000000000000000000000000000104991</td>\n",
       "      <td>1668701718</td>\n",
       "      <td>20210401.0</td>\n",
       "      <td>1047.00</td>\n",
       "    </tr>\n",
       "    <tr>\n",
       "      <th>2</th>\n",
       "      <td>E140FF1B-2407-4C02-A0DD-780A093B1158</td>\n",
       "      <td>20210401.0</td>\n",
       "      <td>386.127949</td>\n",
       "      <td>30153963.0</td>\n",
       "      <td>30.0</td>\n",
       "      <td>Won</td>\n",
       "      <td>WI</td>\n",
       "      <td>28.0</td>\n",
       "      <td>0.38</td>\n",
       "      <td>952.0</td>\n",
       "      <td>S0380700</td>\n",
       "      <td>628377</td>\n",
       "      <td>20210101.0</td>\n",
       "      <td>644.33</td>\n",
       "    </tr>\n",
       "    <tr>\n",
       "      <th>3</th>\n",
       "      <td>F8D507A0-9C62-4EFE-831E-33E1DA53BB50</td>\n",
       "      <td>20210401.0</td>\n",
       "      <td>202.411065</td>\n",
       "      <td>30349574.0</td>\n",
       "      <td>32.0</td>\n",
       "      <td>Won</td>\n",
       "      <td>S</td>\n",
       "      <td>59.0</td>\n",
       "      <td>2.30</td>\n",
       "      <td>1317.0</td>\n",
       "      <td>DX51D+ZM310MAO 2.3X1317</td>\n",
       "      <td>1668701718</td>\n",
       "      <td>20210101.0</td>\n",
       "      <td>768.00</td>\n",
       "    </tr>\n",
       "    <tr>\n",
       "      <th>4</th>\n",
       "      <td>4E1C4E78-152B-430A-8094-ADD889C9D0AD</td>\n",
       "      <td>20210401.0</td>\n",
       "      <td>785.526262</td>\n",
       "      <td>30211560.0</td>\n",
       "      <td>28.0</td>\n",
       "      <td>Won</td>\n",
       "      <td>W</td>\n",
       "      <td>10.0</td>\n",
       "      <td>4.00</td>\n",
       "      <td>2000.0</td>\n",
       "      <td>2_S275JR+AR-CL1</td>\n",
       "      <td>640665</td>\n",
       "      <td>20210301.0</td>\n",
       "      <td>577.00</td>\n",
       "    </tr>\n",
       "  </tbody>\n",
       "</table>\n",
       "</div>"
      ],
      "text/plain": [
       "                                     id   item_date quantity tons    customer  \\\n",
       "0  EC06F063-9DF0-440C-8764-0B0C05A4F6AE  20210401.0     54.151139  30156308.0   \n",
       "1  4E5F4B3D-DDDF-499D-AFDE-A3227EC49425  20210401.0    768.024839  30202938.0   \n",
       "2  E140FF1B-2407-4C02-A0DD-780A093B1158  20210401.0    386.127949  30153963.0   \n",
       "3  F8D507A0-9C62-4EFE-831E-33E1DA53BB50  20210401.0    202.411065  30349574.0   \n",
       "4  4E1C4E78-152B-430A-8094-ADD889C9D0AD  20210401.0    785.526262  30211560.0   \n",
       "\n",
       "   country status item type  application  thickness   width  \\\n",
       "0     28.0    Won         W         10.0       2.00  1500.0   \n",
       "1     25.0    Won         W         41.0       0.80  1210.0   \n",
       "2     30.0    Won        WI         28.0       0.38   952.0   \n",
       "3     32.0    Won         S         59.0       2.30  1317.0   \n",
       "4     28.0    Won         W         10.0       4.00  2000.0   \n",
       "\n",
       "                               material_ref  product_ref  delivery date  \\\n",
       "0                               DEQ1 S460MC   1670798778     20210701.0   \n",
       "1  0000000000000000000000000000000000104991   1668701718     20210401.0   \n",
       "2                                  S0380700       628377     20210101.0   \n",
       "3                   DX51D+ZM310MAO 2.3X1317   1668701718     20210101.0   \n",
       "4                           2_S275JR+AR-CL1       640665     20210301.0   \n",
       "\n",
       "   selling_price  \n",
       "0         854.00  \n",
       "1        1047.00  \n",
       "2         644.33  \n",
       "3         768.00  \n",
       "4         577.00  "
      ]
     },
     "execution_count": 173,
     "metadata": {},
     "output_type": "execute_result"
    }
   ],
   "source": [
    "# Read the CSV file\n",
    "df = pd.read_csv(r\"C:\\Shubh Projects DS\\Copper\\Copper_Set.xlsx - Result 1.csv\")\n",
    "\n",
    "# Set the option to display all columns\n",
    "pd.set_option('display.max_columns', None)\n",
    "\n",
    "# Display the DataFrame\n",
    "df.head()"
   ]
  },
  {
   "cell_type": "code",
   "execution_count": 174,
   "metadata": {},
   "outputs": [
    {
     "data": {
      "text/plain": [
       "(181673, 14)"
      ]
     },
     "execution_count": 174,
     "metadata": {},
     "output_type": "execute_result"
    }
   ],
   "source": [
    "df.shape\n"
   ]
  },
  {
   "cell_type": "code",
   "execution_count": 175,
   "metadata": {},
   "outputs": [
    {
     "name": "stdout",
     "output_type": "stream",
     "text": [
      "<class 'pandas.core.frame.DataFrame'>\n",
      "RangeIndex: 181673 entries, 0 to 181672\n",
      "Data columns (total 14 columns):\n",
      " #   Column         Non-Null Count   Dtype  \n",
      "---  ------         --------------   -----  \n",
      " 0   id             181671 non-null  object \n",
      " 1   item_date      181672 non-null  float64\n",
      " 2   quantity tons  181673 non-null  object \n",
      " 3   customer       181672 non-null  float64\n",
      " 4   country        181645 non-null  float64\n",
      " 5   status         181671 non-null  object \n",
      " 6   item type      181673 non-null  object \n",
      " 7   application    181649 non-null  float64\n",
      " 8   thickness      181672 non-null  float64\n",
      " 9   width          181673 non-null  float64\n",
      " 10  material_ref   103754 non-null  object \n",
      " 11  product_ref    181673 non-null  int64  \n",
      " 12  delivery date  181672 non-null  float64\n",
      " 13  selling_price  181672 non-null  float64\n",
      "dtypes: float64(8), int64(1), object(5)\n",
      "memory usage: 19.4+ MB\n"
     ]
    }
   ],
   "source": [
    "df.info()\n"
   ]
  },
  {
   "cell_type": "code",
   "execution_count": 176,
   "metadata": {},
   "outputs": [
    {
     "data": {
      "text/plain": [
       "id                   2\n",
       "item_date            1\n",
       "quantity tons        0\n",
       "customer             1\n",
       "country             28\n",
       "status               2\n",
       "item type            0\n",
       "application         24\n",
       "thickness            1\n",
       "width                0\n",
       "material_ref     77919\n",
       "product_ref          0\n",
       "delivery date        1\n",
       "selling_price        1\n",
       "dtype: int64"
      ]
     },
     "execution_count": 176,
     "metadata": {},
     "output_type": "execute_result"
    }
   ],
   "source": [
    "#checking the null values in this dataframe\n",
    "df.isnull().sum()"
   ]
  },
  {
   "cell_type": "code",
   "execution_count": 177,
   "metadata": {},
   "outputs": [
    {
     "name": "stdout",
     "output_type": "stream",
     "text": [
      "id : 181671\n",
      "item_date : 252\n",
      "quantity tons : 181673\n",
      "customer : 1169\n",
      "country : 17\n",
      "status : 9\n",
      "item type : 7\n",
      "application : 30\n",
      "thickness : 594\n",
      "width : 1386\n",
      "material_ref : 16563\n",
      "product_ref : 33\n",
      "delivery date : 28\n",
      "selling_price : 9795\n"
     ]
    }
   ],
   "source": [
    "#checking the unique values of the all columns\n",
    "\n",
    "for i in df.columns:\n",
    "  print(i,\":\",df[i].nunique())"
   ]
  },
  {
   "cell_type": "code",
   "execution_count": 178,
   "metadata": {},
   "outputs": [
    {
     "data": {
      "text/plain": [
       "id                object\n",
       "item_date        float64\n",
       "quantity tons     object\n",
       "customer         float64\n",
       "country          float64\n",
       "status            object\n",
       "item type         object\n",
       "application      float64\n",
       "thickness        float64\n",
       "width            float64\n",
       "material_ref      object\n",
       "product_ref        int64\n",
       "delivery date    float64\n",
       "selling_price    float64\n",
       "dtype: object"
      ]
     },
     "execution_count": 178,
     "metadata": {},
     "output_type": "execute_result"
    }
   ],
   "source": [
    "df.dtypes\n"
   ]
  },
  {
   "cell_type": "code",
   "execution_count": 179,
   "metadata": {},
   "outputs": [],
   "source": [
    "#converting the datatypes\n",
    "# item_dat, delivery date, quantity tons\n",
    "\n",
    "df[\"quantity tons\"]= pd.to_numeric(df[\"quantity tons\"],errors=\"coerce\")\n",
    "df[\"item_date_1\"]= pd.to_datetime(df[\"item_date\"],format=\"%Y%m%d\",errors=\"coerce\").dt.date\n",
    "df[\"delivery_date_1\"]= pd.to_datetime(df[\"delivery date\"],format=\"%Y%m%d\",errors=\"coerce\").dt.date"
   ]
  },
  {
   "cell_type": "code",
   "execution_count": 180,
   "metadata": {},
   "outputs": [
    {
     "name": "stdout",
     "output_type": "stream",
     "text": [
      "<class 'pandas.core.frame.DataFrame'>\n",
      "RangeIndex: 181673 entries, 0 to 181672\n",
      "Data columns (total 16 columns):\n",
      " #   Column           Non-Null Count   Dtype  \n",
      "---  ------           --------------   -----  \n",
      " 0   id               181671 non-null  object \n",
      " 1   item_date        181672 non-null  float64\n",
      " 2   quantity tons    181672 non-null  float64\n",
      " 3   customer         181672 non-null  float64\n",
      " 4   country          181645 non-null  float64\n",
      " 5   status           181671 non-null  object \n",
      " 6   item type        181673 non-null  object \n",
      " 7   application      181649 non-null  float64\n",
      " 8   thickness        181672 non-null  float64\n",
      " 9   width            181673 non-null  float64\n",
      " 10  material_ref     103754 non-null  object \n",
      " 11  product_ref      181673 non-null  int64  \n",
      " 12  delivery date    181672 non-null  float64\n",
      " 13  selling_price    181672 non-null  float64\n",
      " 14  item_date_1      181670 non-null  object \n",
      " 15  delivery_date_1  181670 non-null  object \n",
      "dtypes: float64(9), int64(1), object(6)\n",
      "memory usage: 22.2+ MB\n"
     ]
    }
   ],
   "source": [
    "df.info()\n"
   ]
  },
  {
   "cell_type": "code",
   "execution_count": 181,
   "metadata": {},
   "outputs": [
    {
     "data": {
      "text/plain": [
       "id                     2\n",
       "item_date              1\n",
       "quantity tons          1\n",
       "customer               1\n",
       "country               28\n",
       "status                 2\n",
       "item type              0\n",
       "application           24\n",
       "thickness              1\n",
       "width                  0\n",
       "material_ref       77919\n",
       "product_ref            0\n",
       "delivery date          1\n",
       "selling_price          1\n",
       "item_date_1            3\n",
       "delivery_date_1        3\n",
       "dtype: int64"
      ]
     },
     "execution_count": 181,
     "metadata": {},
     "output_type": "execute_result"
    }
   ],
   "source": [
    "df.isnull().sum()\n"
   ]
  },
  {
   "cell_type": "code",
   "execution_count": 182,
   "metadata": {},
   "outputs": [],
   "source": [
    "#removing the \"00000\" datas in the \"material_ref\" column\n",
    "df[\"material_ref\"]=df[\"material_ref\"].apply(lambda x: np.nan if str(x).startswith(\"00000\") else x)"
   ]
  },
  {
   "cell_type": "code",
   "execution_count": 183,
   "metadata": {},
   "outputs": [
    {
     "data": {
      "text/plain": [
       "id                      2\n",
       "item_date               1\n",
       "quantity tons           1\n",
       "customer                1\n",
       "country                28\n",
       "status                  2\n",
       "item type               0\n",
       "application            24\n",
       "thickness               1\n",
       "width                   0\n",
       "material_ref       100645\n",
       "product_ref             0\n",
       "delivery date           1\n",
       "selling_price           1\n",
       "item_date_1             3\n",
       "delivery_date_1         3\n",
       "dtype: int64"
      ]
     },
     "execution_count": 183,
     "metadata": {},
     "output_type": "execute_result"
    }
   ],
   "source": [
    "df.isnull().sum()\n"
   ]
  },
  {
   "cell_type": "code",
   "execution_count": 184,
   "metadata": {},
   "outputs": [],
   "source": [
    "df.drop(columns=[\"id\",\"material_ref\"],inplace=True)\n"
   ]
  },
  {
   "cell_type": "code",
   "execution_count": 185,
   "metadata": {},
   "outputs": [
    {
     "data": {
      "text/plain": [
       "item_date           1\n",
       "quantity tons       1\n",
       "customer            1\n",
       "country            28\n",
       "status              2\n",
       "item type           0\n",
       "application        24\n",
       "thickness           1\n",
       "width               0\n",
       "product_ref         0\n",
       "delivery date       1\n",
       "selling_price       1\n",
       "item_date_1         3\n",
       "delivery_date_1     3\n",
       "dtype: int64"
      ]
     },
     "execution_count": 185,
     "metadata": {},
     "output_type": "execute_result"
    }
   ],
   "source": [
    "df.isnull().sum()\n"
   ]
  },
  {
   "cell_type": "code",
   "execution_count": 186,
   "metadata": {},
   "outputs": [
    {
     "data": {
      "text/html": [
       "<div>\n",
       "<style scoped>\n",
       "    .dataframe tbody tr th:only-of-type {\n",
       "        vertical-align: middle;\n",
       "    }\n",
       "\n",
       "    .dataframe tbody tr th {\n",
       "        vertical-align: top;\n",
       "    }\n",
       "\n",
       "    .dataframe thead th {\n",
       "        text-align: right;\n",
       "    }\n",
       "</style>\n",
       "<table border=\"1\" class=\"dataframe\">\n",
       "  <thead>\n",
       "    <tr style=\"text-align: right;\">\n",
       "      <th></th>\n",
       "      <th>count</th>\n",
       "      <th>mean</th>\n",
       "      <th>std</th>\n",
       "      <th>min</th>\n",
       "      <th>25%</th>\n",
       "      <th>50%</th>\n",
       "      <th>75%</th>\n",
       "      <th>max</th>\n",
       "    </tr>\n",
       "  </thead>\n",
       "  <tbody>\n",
       "    <tr>\n",
       "      <th>item_date</th>\n",
       "      <td>181672.0</td>\n",
       "      <td>2.020459e+07</td>\n",
       "      <td>4.551119e+03</td>\n",
       "      <td>19950000.00</td>\n",
       "      <td>2.020093e+07</td>\n",
       "      <td>2.020113e+07</td>\n",
       "      <td>2.021020e+07</td>\n",
       "      <td>2.021040e+07</td>\n",
       "    </tr>\n",
       "    <tr>\n",
       "      <th>quantity tons</th>\n",
       "      <td>181672.0</td>\n",
       "      <td>5.874926e+03</td>\n",
       "      <td>2.349081e+06</td>\n",
       "      <td>-2000.00</td>\n",
       "      <td>1.097030e+01</td>\n",
       "      <td>3.036464e+01</td>\n",
       "      <td>6.716061e+01</td>\n",
       "      <td>1.000000e+09</td>\n",
       "    </tr>\n",
       "    <tr>\n",
       "      <th>customer</th>\n",
       "      <td>181672.0</td>\n",
       "      <td>3.051221e+07</td>\n",
       "      <td>2.433382e+07</td>\n",
       "      <td>12458.00</td>\n",
       "      <td>3.019688e+07</td>\n",
       "      <td>3.020524e+07</td>\n",
       "      <td>3.028042e+07</td>\n",
       "      <td>2.147484e+09</td>\n",
       "    </tr>\n",
       "    <tr>\n",
       "      <th>country</th>\n",
       "      <td>181645.0</td>\n",
       "      <td>4.489302e+01</td>\n",
       "      <td>2.440421e+01</td>\n",
       "      <td>25.00</td>\n",
       "      <td>2.600000e+01</td>\n",
       "      <td>3.000000e+01</td>\n",
       "      <td>7.800000e+01</td>\n",
       "      <td>1.130000e+02</td>\n",
       "    </tr>\n",
       "    <tr>\n",
       "      <th>application</th>\n",
       "      <td>181649.0</td>\n",
       "      <td>2.561581e+01</td>\n",
       "      <td>1.775417e+01</td>\n",
       "      <td>2.00</td>\n",
       "      <td>1.000000e+01</td>\n",
       "      <td>1.500000e+01</td>\n",
       "      <td>4.100000e+01</td>\n",
       "      <td>9.900000e+01</td>\n",
       "    </tr>\n",
       "    <tr>\n",
       "      <th>thickness</th>\n",
       "      <td>181672.0</td>\n",
       "      <td>2.564827e+00</td>\n",
       "      <td>6.572321e+00</td>\n",
       "      <td>0.18</td>\n",
       "      <td>7.000000e-01</td>\n",
       "      <td>1.500000e+00</td>\n",
       "      <td>3.000000e+00</td>\n",
       "      <td>2.500000e+03</td>\n",
       "    </tr>\n",
       "    <tr>\n",
       "      <th>width</th>\n",
       "      <td>181673.0</td>\n",
       "      <td>1.295287e+03</td>\n",
       "      <td>2.616318e+02</td>\n",
       "      <td>1.00</td>\n",
       "      <td>1.180000e+03</td>\n",
       "      <td>1.250000e+03</td>\n",
       "      <td>1.500000e+03</td>\n",
       "      <td>2.990000e+03</td>\n",
       "    </tr>\n",
       "    <tr>\n",
       "      <th>product_ref</th>\n",
       "      <td>181673.0</td>\n",
       "      <td>4.739679e+08</td>\n",
       "      <td>7.175101e+08</td>\n",
       "      <td>611728.00</td>\n",
       "      <td>6.119930e+05</td>\n",
       "      <td>6.406650e+05</td>\n",
       "      <td>1.332077e+09</td>\n",
       "      <td>1.722208e+09</td>\n",
       "    </tr>\n",
       "    <tr>\n",
       "      <th>delivery date</th>\n",
       "      <td>181672.0</td>\n",
       "      <td>2.020738e+07</td>\n",
       "      <td>2.411059e+04</td>\n",
       "      <td>20190401.00</td>\n",
       "      <td>2.020110e+07</td>\n",
       "      <td>2.021010e+07</td>\n",
       "      <td>2.021040e+07</td>\n",
       "      <td>3.031010e+07</td>\n",
       "    </tr>\n",
       "    <tr>\n",
       "      <th>selling_price</th>\n",
       "      <td>181672.0</td>\n",
       "      <td>1.918036e+03</td>\n",
       "      <td>3.317956e+05</td>\n",
       "      <td>-1160.00</td>\n",
       "      <td>6.690000e+02</td>\n",
       "      <td>8.120000e+02</td>\n",
       "      <td>9.530000e+02</td>\n",
       "      <td>1.000010e+08</td>\n",
       "    </tr>\n",
       "  </tbody>\n",
       "</table>\n",
       "</div>"
      ],
      "text/plain": [
       "                  count          mean           std          min  \\\n",
       "item_date      181672.0  2.020459e+07  4.551119e+03  19950000.00   \n",
       "quantity tons  181672.0  5.874926e+03  2.349081e+06     -2000.00   \n",
       "customer       181672.0  3.051221e+07  2.433382e+07     12458.00   \n",
       "country        181645.0  4.489302e+01  2.440421e+01        25.00   \n",
       "application    181649.0  2.561581e+01  1.775417e+01         2.00   \n",
       "thickness      181672.0  2.564827e+00  6.572321e+00         0.18   \n",
       "width          181673.0  1.295287e+03  2.616318e+02         1.00   \n",
       "product_ref    181673.0  4.739679e+08  7.175101e+08    611728.00   \n",
       "delivery date  181672.0  2.020738e+07  2.411059e+04  20190401.00   \n",
       "selling_price  181672.0  1.918036e+03  3.317956e+05     -1160.00   \n",
       "\n",
       "                        25%           50%           75%           max  \n",
       "item_date      2.020093e+07  2.020113e+07  2.021020e+07  2.021040e+07  \n",
       "quantity tons  1.097030e+01  3.036464e+01  6.716061e+01  1.000000e+09  \n",
       "customer       3.019688e+07  3.020524e+07  3.028042e+07  2.147484e+09  \n",
       "country        2.600000e+01  3.000000e+01  7.800000e+01  1.130000e+02  \n",
       "application    1.000000e+01  1.500000e+01  4.100000e+01  9.900000e+01  \n",
       "thickness      7.000000e-01  1.500000e+00  3.000000e+00  2.500000e+03  \n",
       "width          1.180000e+03  1.250000e+03  1.500000e+03  2.990000e+03  \n",
       "product_ref    6.119930e+05  6.406650e+05  1.332077e+09  1.722208e+09  \n",
       "delivery date  2.020110e+07  2.021010e+07  2.021040e+07  3.031010e+07  \n",
       "selling_price  6.690000e+02  8.120000e+02  9.530000e+02  1.000010e+08  "
      ]
     },
     "execution_count": 186,
     "metadata": {},
     "output_type": "execute_result"
    }
   ],
   "source": [
    "df.describe().T\n"
   ]
  },
  {
   "cell_type": "code",
   "execution_count": 187,
   "metadata": {},
   "outputs": [],
   "source": [
    "#quantity tons and selling_price have a negative values,\n",
    "# so we need to replace the negative values\n",
    "\n",
    "#converting the negative values into the null values\n",
    "df[\"quantity tons\"]= df[\"quantity tons\"].apply(lambda x: np.nan if x<=0 else x)\n",
    "df[\"selling_price\"]= df[\"selling_price\"].apply(lambda x: np.nan if x<=0 else x)"
   ]
  },
  {
   "cell_type": "code",
   "execution_count": 188,
   "metadata": {},
   "outputs": [
    {
     "data": {
      "text/plain": [
       "item_date             252\n",
       "quantity tons      181668\n",
       "customer             1169\n",
       "country                17\n",
       "status                  9\n",
       "item type               7\n",
       "application            30\n",
       "thickness             594\n",
       "width                1386\n",
       "product_ref            33\n",
       "delivery date          28\n",
       "selling_price        9789\n",
       "item_date_1           250\n",
       "delivery_date_1        26\n",
       "dtype: int64"
      ]
     },
     "execution_count": 188,
     "metadata": {},
     "output_type": "execute_result"
    }
   ],
   "source": [
    "df.nunique()\n"
   ]
  },
  {
   "cell_type": "code",
   "execution_count": 189,
   "metadata": {},
   "outputs": [
    {
     "data": {
      "text/plain": [
       "item_date           1\n",
       "quantity tons       5\n",
       "customer            1\n",
       "country            28\n",
       "status              2\n",
       "item type           0\n",
       "application        24\n",
       "thickness           1\n",
       "width               0\n",
       "product_ref         0\n",
       "delivery date       1\n",
       "selling_price       8\n",
       "item_date_1         3\n",
       "delivery_date_1     3\n",
       "dtype: int64"
      ]
     },
     "execution_count": 189,
     "metadata": {},
     "output_type": "execute_result"
    }
   ],
   "source": [
    "df.isnull().sum()\n"
   ]
  },
  {
   "cell_type": "code",
   "execution_count": 190,
   "metadata": {},
   "outputs": [],
   "source": [
    "df[\"item_date_1\"].fillna(df[\"item_date_1\"].mode().iloc[0],inplace=True)\n",
    "df[\"delivery_date_1\"].fillna(df[\"delivery_date_1\"].mode().iloc[0],inplace=True)\n",
    "df[\"status\"].fillna(df[\"status\"].mode().iloc[0],inplace=True)\n",
    "df[\"item_date\"]. fillna(df[\"item_date\"].mode().iloc[0],inplace=True)\n",
    "df[\"delivery date\"]. fillna(df[\"delivery date\"].mode().iloc[0],inplace=True)\n",
    "# object columns and mode method"
   ]
  },
  {
   "cell_type": "code",
   "execution_count": 191,
   "metadata": {},
   "outputs": [
    {
     "data": {
      "text/plain": [
       "item_date           0\n",
       "quantity tons       5\n",
       "customer            1\n",
       "country            28\n",
       "status              0\n",
       "item type           0\n",
       "application        24\n",
       "thickness           1\n",
       "width               0\n",
       "product_ref         0\n",
       "delivery date       0\n",
       "selling_price       8\n",
       "item_date_1         0\n",
       "delivery_date_1     0\n",
       "dtype: int64"
      ]
     },
     "execution_count": 191,
     "metadata": {},
     "output_type": "execute_result"
    }
   ],
   "source": [
    "df.isnull().sum()\n"
   ]
  },
  {
   "cell_type": "code",
   "execution_count": 192,
   "metadata": {},
   "outputs": [],
   "source": [
    "#numarical column and median()\n",
    "df[\"quantity tons\"].fillna(df[\"quantity tons\"].median(),inplace=True)\n",
    "df[\"customer\"].fillna(df[\"customer\"].median(),inplace=True)\n",
    "df[\"country\"].fillna(df[\"country\"].median(),inplace=True)\n",
    "df[\"application\"].fillna(df[\"application\"].median(),inplace=True)\n",
    "df[\"thickness\"].fillna(df[\"thickness\"].median(),inplace=True)\n",
    "df[\"selling_price\"].fillna(df[\"selling_price\"].median(),inplace=True)"
   ]
  },
  {
   "cell_type": "code",
   "execution_count": 193,
   "metadata": {},
   "outputs": [
    {
     "data": {
      "text/plain": [
       "item_date          0\n",
       "quantity tons      0\n",
       "customer           0\n",
       "country            0\n",
       "status             0\n",
       "item type          0\n",
       "application        0\n",
       "thickness          0\n",
       "width              0\n",
       "product_ref        0\n",
       "delivery date      0\n",
       "selling_price      0\n",
       "item_date_1        0\n",
       "delivery_date_1    0\n",
       "dtype: int64"
      ]
     },
     "execution_count": 193,
     "metadata": {},
     "output_type": "execute_result"
    }
   ],
   "source": [
    "df.isnull().sum()\n"
   ]
  },
  {
   "cell_type": "code",
   "execution_count": 194,
   "metadata": {},
   "outputs": [
    {
     "data": {
      "text/html": [
       "<div>\n",
       "<style scoped>\n",
       "    .dataframe tbody tr th:only-of-type {\n",
       "        vertical-align: middle;\n",
       "    }\n",
       "\n",
       "    .dataframe tbody tr th {\n",
       "        vertical-align: top;\n",
       "    }\n",
       "\n",
       "    .dataframe thead th {\n",
       "        text-align: right;\n",
       "    }\n",
       "</style>\n",
       "<table border=\"1\" class=\"dataframe\">\n",
       "  <thead>\n",
       "    <tr style=\"text-align: right;\">\n",
       "      <th></th>\n",
       "      <th>item_date</th>\n",
       "      <th>quantity tons</th>\n",
       "      <th>customer</th>\n",
       "      <th>country</th>\n",
       "      <th>status</th>\n",
       "      <th>item type</th>\n",
       "      <th>application</th>\n",
       "      <th>thickness</th>\n",
       "      <th>width</th>\n",
       "      <th>product_ref</th>\n",
       "      <th>delivery date</th>\n",
       "      <th>selling_price</th>\n",
       "      <th>item_date_1</th>\n",
       "      <th>delivery_date_1</th>\n",
       "    </tr>\n",
       "  </thead>\n",
       "  <tbody>\n",
       "    <tr>\n",
       "      <th>0</th>\n",
       "      <td>20210401.0</td>\n",
       "      <td>54.151139</td>\n",
       "      <td>30156308.0</td>\n",
       "      <td>28.0</td>\n",
       "      <td>Won</td>\n",
       "      <td>W</td>\n",
       "      <td>10.0</td>\n",
       "      <td>2.00</td>\n",
       "      <td>1500.0</td>\n",
       "      <td>1670798778</td>\n",
       "      <td>20210701.0</td>\n",
       "      <td>854.00</td>\n",
       "      <td>2021-04-01</td>\n",
       "      <td>2021-07-01</td>\n",
       "    </tr>\n",
       "    <tr>\n",
       "      <th>1</th>\n",
       "      <td>20210401.0</td>\n",
       "      <td>768.024839</td>\n",
       "      <td>30202938.0</td>\n",
       "      <td>25.0</td>\n",
       "      <td>Won</td>\n",
       "      <td>W</td>\n",
       "      <td>41.0</td>\n",
       "      <td>0.80</td>\n",
       "      <td>1210.0</td>\n",
       "      <td>1668701718</td>\n",
       "      <td>20210401.0</td>\n",
       "      <td>1047.00</td>\n",
       "      <td>2021-04-01</td>\n",
       "      <td>2021-04-01</td>\n",
       "    </tr>\n",
       "    <tr>\n",
       "      <th>2</th>\n",
       "      <td>20210401.0</td>\n",
       "      <td>386.127949</td>\n",
       "      <td>30153963.0</td>\n",
       "      <td>30.0</td>\n",
       "      <td>Won</td>\n",
       "      <td>WI</td>\n",
       "      <td>28.0</td>\n",
       "      <td>0.38</td>\n",
       "      <td>952.0</td>\n",
       "      <td>628377</td>\n",
       "      <td>20210101.0</td>\n",
       "      <td>644.33</td>\n",
       "      <td>2021-04-01</td>\n",
       "      <td>2021-01-01</td>\n",
       "    </tr>\n",
       "    <tr>\n",
       "      <th>3</th>\n",
       "      <td>20210401.0</td>\n",
       "      <td>202.411065</td>\n",
       "      <td>30349574.0</td>\n",
       "      <td>32.0</td>\n",
       "      <td>Won</td>\n",
       "      <td>S</td>\n",
       "      <td>59.0</td>\n",
       "      <td>2.30</td>\n",
       "      <td>1317.0</td>\n",
       "      <td>1668701718</td>\n",
       "      <td>20210101.0</td>\n",
       "      <td>768.00</td>\n",
       "      <td>2021-04-01</td>\n",
       "      <td>2021-01-01</td>\n",
       "    </tr>\n",
       "    <tr>\n",
       "      <th>4</th>\n",
       "      <td>20210401.0</td>\n",
       "      <td>785.526262</td>\n",
       "      <td>30211560.0</td>\n",
       "      <td>28.0</td>\n",
       "      <td>Won</td>\n",
       "      <td>W</td>\n",
       "      <td>10.0</td>\n",
       "      <td>4.00</td>\n",
       "      <td>2000.0</td>\n",
       "      <td>640665</td>\n",
       "      <td>20210301.0</td>\n",
       "      <td>577.00</td>\n",
       "      <td>2021-04-01</td>\n",
       "      <td>2021-03-01</td>\n",
       "    </tr>\n",
       "  </tbody>\n",
       "</table>\n",
       "</div>"
      ],
      "text/plain": [
       "    item_date  quantity tons    customer  country status item type  \\\n",
       "0  20210401.0      54.151139  30156308.0     28.0    Won         W   \n",
       "1  20210401.0     768.024839  30202938.0     25.0    Won         W   \n",
       "2  20210401.0     386.127949  30153963.0     30.0    Won        WI   \n",
       "3  20210401.0     202.411065  30349574.0     32.0    Won         S   \n",
       "4  20210401.0     785.526262  30211560.0     28.0    Won         W   \n",
       "\n",
       "   application  thickness   width  product_ref  delivery date  selling_price  \\\n",
       "0         10.0       2.00  1500.0   1670798778     20210701.0         854.00   \n",
       "1         41.0       0.80  1210.0   1668701718     20210401.0        1047.00   \n",
       "2         28.0       0.38   952.0       628377     20210101.0         644.33   \n",
       "3         59.0       2.30  1317.0   1668701718     20210101.0         768.00   \n",
       "4         10.0       4.00  2000.0       640665     20210301.0         577.00   \n",
       "\n",
       "  item_date_1 delivery_date_1  \n",
       "0  2021-04-01      2021-07-01  \n",
       "1  2021-04-01      2021-04-01  \n",
       "2  2021-04-01      2021-01-01  \n",
       "3  2021-04-01      2021-01-01  \n",
       "4  2021-04-01      2021-03-01  "
      ]
     },
     "execution_count": 194,
     "metadata": {},
     "output_type": "execute_result"
    }
   ],
   "source": [
    "df.head(5)\n"
   ]
  },
  {
   "cell_type": "code",
   "execution_count": 195,
   "metadata": {},
   "outputs": [
    {
     "data": {
      "text/plain": [
       "array(['Won', 'Draft', 'To be approved', 'Lost', 'Not lost for AM',\n",
       "       'Wonderful', 'Revised', 'Offered', 'Offerable'], dtype=object)"
      ]
     },
     "execution_count": 195,
     "metadata": {},
     "output_type": "execute_result"
    }
   ],
   "source": [
    "df[\"status\"].unique()\n"
   ]
  },
  {
   "cell_type": "code",
   "execution_count": 196,
   "metadata": {},
   "outputs": [],
   "source": [
    "df[\"status\"]= df[\"status\"].map({'Won':1, 'Draft':2, 'To be approved':3, 'Lost':0, 'Not lost for AM':4,\n",
    "                                'Wonderful':5, 'Revised':6, 'Offered':7, 'Offerable':8})"
   ]
  },
  {
   "cell_type": "code",
   "execution_count": 197,
   "metadata": {},
   "outputs": [
    {
     "data": {
      "text/plain": [
       "array([1, 2, 3, 0, 4, 5, 6, 7, 8], dtype=int64)"
      ]
     },
     "execution_count": 197,
     "metadata": {},
     "output_type": "execute_result"
    }
   ],
   "source": [
    "df[\"status\"].unique()\n"
   ]
  },
  {
   "cell_type": "code",
   "execution_count": 198,
   "metadata": {},
   "outputs": [
    {
     "data": {
      "text/plain": [
       "<bound method Series.unique of 0          W\n",
       "1          W\n",
       "2         WI\n",
       "3          S\n",
       "4          W\n",
       "          ..\n",
       "181668     W\n",
       "181669     W\n",
       "181670     W\n",
       "181671     W\n",
       "181672     W\n",
       "Name: item type, Length: 181673, dtype: object>"
      ]
     },
     "execution_count": 198,
     "metadata": {},
     "output_type": "execute_result"
    }
   ],
   "source": [
    "df[\"item type\"].unique\n"
   ]
  },
  {
   "cell_type": "code",
   "execution_count": 199,
   "metadata": {},
   "outputs": [],
   "source": [
    "df[\"item type\"]= OrdinalEncoder().fit_transform(df[[\"item type\"]])\n"
   ]
  },
  {
   "cell_type": "code",
   "execution_count": 200,
   "metadata": {},
   "outputs": [
    {
     "data": {
      "text/plain": [
       "array([5., 6., 3., 1., 2., 0., 4.])"
      ]
     },
     "execution_count": 200,
     "metadata": {},
     "output_type": "execute_result"
    }
   ],
   "source": [
    "df[\"item type\"].unique()\n"
   ]
  },
  {
   "cell_type": "code",
   "execution_count": 201,
   "metadata": {},
   "outputs": [
    {
     "data": {
      "text/html": [
       "<div>\n",
       "<style scoped>\n",
       "    .dataframe tbody tr th:only-of-type {\n",
       "        vertical-align: middle;\n",
       "    }\n",
       "\n",
       "    .dataframe tbody tr th {\n",
       "        vertical-align: top;\n",
       "    }\n",
       "\n",
       "    .dataframe thead th {\n",
       "        text-align: right;\n",
       "    }\n",
       "</style>\n",
       "<table border=\"1\" class=\"dataframe\">\n",
       "  <thead>\n",
       "    <tr style=\"text-align: right;\">\n",
       "      <th></th>\n",
       "      <th>count</th>\n",
       "      <th>mean</th>\n",
       "      <th>std</th>\n",
       "      <th>min</th>\n",
       "      <th>25%</th>\n",
       "      <th>50%</th>\n",
       "      <th>75%</th>\n",
       "      <th>max</th>\n",
       "    </tr>\n",
       "  </thead>\n",
       "  <tbody>\n",
       "    <tr>\n",
       "      <th>item_date</th>\n",
       "      <td>181673.0</td>\n",
       "      <td>2.020459e+07</td>\n",
       "      <td>4.551114e+03</td>\n",
       "      <td>1.995000e+07</td>\n",
       "      <td>2.020093e+07</td>\n",
       "      <td>2.020113e+07</td>\n",
       "      <td>2.021020e+07</td>\n",
       "      <td>2.021040e+07</td>\n",
       "    </tr>\n",
       "    <tr>\n",
       "      <th>quantity tons</th>\n",
       "      <td>181673.0</td>\n",
       "      <td>5.874905e+03</td>\n",
       "      <td>2.349075e+06</td>\n",
       "      <td>1.000000e-05</td>\n",
       "      <td>1.097167e+01</td>\n",
       "      <td>3.036501e+01</td>\n",
       "      <td>6.716038e+01</td>\n",
       "      <td>1.000000e+09</td>\n",
       "    </tr>\n",
       "    <tr>\n",
       "      <th>customer</th>\n",
       "      <td>181673.0</td>\n",
       "      <td>3.051221e+07</td>\n",
       "      <td>2.433375e+07</td>\n",
       "      <td>1.245800e+04</td>\n",
       "      <td>3.019688e+07</td>\n",
       "      <td>3.020524e+07</td>\n",
       "      <td>3.028042e+07</td>\n",
       "      <td>2.147484e+09</td>\n",
       "    </tr>\n",
       "    <tr>\n",
       "      <th>country</th>\n",
       "      <td>181673.0</td>\n",
       "      <td>4.489073e+01</td>\n",
       "      <td>2.440303e+01</td>\n",
       "      <td>2.500000e+01</td>\n",
       "      <td>2.600000e+01</td>\n",
       "      <td>3.000000e+01</td>\n",
       "      <td>7.800000e+01</td>\n",
       "      <td>1.130000e+02</td>\n",
       "    </tr>\n",
       "    <tr>\n",
       "      <th>status</th>\n",
       "      <td>181673.0</td>\n",
       "      <td>1.316684e+00</td>\n",
       "      <td>1.330310e+00</td>\n",
       "      <td>0.000000e+00</td>\n",
       "      <td>1.000000e+00</td>\n",
       "      <td>1.000000e+00</td>\n",
       "      <td>1.000000e+00</td>\n",
       "      <td>8.000000e+00</td>\n",
       "    </tr>\n",
       "    <tr>\n",
       "      <th>item type</th>\n",
       "      <td>181673.0</td>\n",
       "      <td>4.133036e+00</td>\n",
       "      <td>1.055230e+00</td>\n",
       "      <td>0.000000e+00</td>\n",
       "      <td>3.000000e+00</td>\n",
       "      <td>5.000000e+00</td>\n",
       "      <td>5.000000e+00</td>\n",
       "      <td>6.000000e+00</td>\n",
       "    </tr>\n",
       "    <tr>\n",
       "      <th>application</th>\n",
       "      <td>181673.0</td>\n",
       "      <td>2.561441e+01</td>\n",
       "      <td>1.775342e+01</td>\n",
       "      <td>2.000000e+00</td>\n",
       "      <td>1.000000e+01</td>\n",
       "      <td>1.500000e+01</td>\n",
       "      <td>4.100000e+01</td>\n",
       "      <td>9.900000e+01</td>\n",
       "    </tr>\n",
       "    <tr>\n",
       "      <th>thickness</th>\n",
       "      <td>181673.0</td>\n",
       "      <td>2.564822e+00</td>\n",
       "      <td>6.572303e+00</td>\n",
       "      <td>1.800000e-01</td>\n",
       "      <td>7.000000e-01</td>\n",
       "      <td>1.500000e+00</td>\n",
       "      <td>3.000000e+00</td>\n",
       "      <td>2.500000e+03</td>\n",
       "    </tr>\n",
       "    <tr>\n",
       "      <th>width</th>\n",
       "      <td>181673.0</td>\n",
       "      <td>1.295287e+03</td>\n",
       "      <td>2.616318e+02</td>\n",
       "      <td>1.000000e+00</td>\n",
       "      <td>1.180000e+03</td>\n",
       "      <td>1.250000e+03</td>\n",
       "      <td>1.500000e+03</td>\n",
       "      <td>2.990000e+03</td>\n",
       "    </tr>\n",
       "    <tr>\n",
       "      <th>product_ref</th>\n",
       "      <td>181673.0</td>\n",
       "      <td>4.739679e+08</td>\n",
       "      <td>7.175101e+08</td>\n",
       "      <td>6.117280e+05</td>\n",
       "      <td>6.119930e+05</td>\n",
       "      <td>6.406650e+05</td>\n",
       "      <td>1.332077e+09</td>\n",
       "      <td>1.722208e+09</td>\n",
       "    </tr>\n",
       "    <tr>\n",
       "      <th>delivery date</th>\n",
       "      <td>181673.0</td>\n",
       "      <td>2.020738e+07</td>\n",
       "      <td>2.411052e+04</td>\n",
       "      <td>2.019040e+07</td>\n",
       "      <td>2.020110e+07</td>\n",
       "      <td>2.021010e+07</td>\n",
       "      <td>2.021040e+07</td>\n",
       "      <td>3.031010e+07</td>\n",
       "    </tr>\n",
       "    <tr>\n",
       "      <th>selling_price</th>\n",
       "      <td>181673.0</td>\n",
       "      <td>1.918076e+03</td>\n",
       "      <td>3.317947e+05</td>\n",
       "      <td>1.000000e-01</td>\n",
       "      <td>6.690000e+02</td>\n",
       "      <td>8.120000e+02</td>\n",
       "      <td>9.530000e+02</td>\n",
       "      <td>1.000010e+08</td>\n",
       "    </tr>\n",
       "  </tbody>\n",
       "</table>\n",
       "</div>"
      ],
      "text/plain": [
       "                  count          mean           std           min  \\\n",
       "item_date      181673.0  2.020459e+07  4.551114e+03  1.995000e+07   \n",
       "quantity tons  181673.0  5.874905e+03  2.349075e+06  1.000000e-05   \n",
       "customer       181673.0  3.051221e+07  2.433375e+07  1.245800e+04   \n",
       "country        181673.0  4.489073e+01  2.440303e+01  2.500000e+01   \n",
       "status         181673.0  1.316684e+00  1.330310e+00  0.000000e+00   \n",
       "item type      181673.0  4.133036e+00  1.055230e+00  0.000000e+00   \n",
       "application    181673.0  2.561441e+01  1.775342e+01  2.000000e+00   \n",
       "thickness      181673.0  2.564822e+00  6.572303e+00  1.800000e-01   \n",
       "width          181673.0  1.295287e+03  2.616318e+02  1.000000e+00   \n",
       "product_ref    181673.0  4.739679e+08  7.175101e+08  6.117280e+05   \n",
       "delivery date  181673.0  2.020738e+07  2.411052e+04  2.019040e+07   \n",
       "selling_price  181673.0  1.918076e+03  3.317947e+05  1.000000e-01   \n",
       "\n",
       "                        25%           50%           75%           max  \n",
       "item_date      2.020093e+07  2.020113e+07  2.021020e+07  2.021040e+07  \n",
       "quantity tons  1.097167e+01  3.036501e+01  6.716038e+01  1.000000e+09  \n",
       "customer       3.019688e+07  3.020524e+07  3.028042e+07  2.147484e+09  \n",
       "country        2.600000e+01  3.000000e+01  7.800000e+01  1.130000e+02  \n",
       "status         1.000000e+00  1.000000e+00  1.000000e+00  8.000000e+00  \n",
       "item type      3.000000e+00  5.000000e+00  5.000000e+00  6.000000e+00  \n",
       "application    1.000000e+01  1.500000e+01  4.100000e+01  9.900000e+01  \n",
       "thickness      7.000000e-01  1.500000e+00  3.000000e+00  2.500000e+03  \n",
       "width          1.180000e+03  1.250000e+03  1.500000e+03  2.990000e+03  \n",
       "product_ref    6.119930e+05  6.406650e+05  1.332077e+09  1.722208e+09  \n",
       "delivery date  2.020110e+07  2.021010e+07  2.021040e+07  3.031010e+07  \n",
       "selling_price  6.690000e+02  8.120000e+02  9.530000e+02  1.000010e+08  "
      ]
     },
     "execution_count": 201,
     "metadata": {},
     "output_type": "execute_result"
    }
   ],
   "source": [
    "df.describe().T\n"
   ]
  },
  {
   "cell_type": "code",
   "execution_count": 202,
   "metadata": {},
   "outputs": [],
   "source": [
    "df.to_csv(\"Industrial_Copper_proper.csv\", index= False)\n"
   ]
  },
  {
   "cell_type": "markdown",
   "metadata": {},
   "source": [
    "Handling the skewness using (Log Transfermation)\n",
    "\n"
   ]
  },
  {
   "cell_type": "code",
   "execution_count": 203,
   "metadata": {},
   "outputs": [],
   "source": [
    "# detecting the skewed columns using plot\n",
    "def plot(df,column):\n",
    "  #distplot\n",
    "  plt.figure(figsize=(15,4))\n",
    "  plt.subplot(1,3,1)\n",
    "  sns.displot(df[column])\n",
    "  plt.title(\"distplot for\"+\" \"+column)"
   ]
  },
  {
   "cell_type": "code",
   "execution_count": 204,
   "metadata": {},
   "outputs": [],
   "source": [
    "skewed_columns=['quantity tons', 'customer', 'country', 'status',\n",
    "                'item type', 'application', 'thickness', 'width', 'product_ref',\n",
    "                'selling_price']"
   ]
  },
  {
   "cell_type": "code",
   "execution_count": 205,
   "metadata": {},
   "outputs": [],
   "source": [
    "#for i in skewed_columns:\n",
    "  #plot(df,i)"
   ]
  },
  {
   "cell_type": "markdown",
   "metadata": {},
   "source": [
    "Skewed columns:\n",
    "1.quantity tons\n",
    "2.customer\n",
    "3.thickness\n",
    "4.selling_price"
   ]
  },
  {
   "cell_type": "code",
   "execution_count": 206,
   "metadata": {},
   "outputs": [],
   "source": [
    "df1= df.copy()\n"
   ]
  },
  {
   "cell_type": "code",
   "execution_count": 207,
   "metadata": {},
   "outputs": [
    {
     "data": {
      "text/plain": [
       "Index(['item_date', 'quantity tons', 'customer', 'country', 'status',\n",
       "       'item type', 'application', 'thickness', 'width', 'product_ref',\n",
       "       'delivery date', 'selling_price', 'item_date_1', 'delivery_date_1'],\n",
       "      dtype='object')"
      ]
     },
     "execution_count": 207,
     "metadata": {},
     "output_type": "execute_result"
    }
   ],
   "source": [
    "df1.columns\n"
   ]
  },
  {
   "cell_type": "code",
   "execution_count": 208,
   "metadata": {},
   "outputs": [],
   "source": [
    "df1[\"quantity_tons_log\"]= np.log(df1[\"quantity tons\"])\n",
    "df1[\"customer_log\"]= np.log(df1[\"customer\"])\n",
    "df1[\"thickness_log\"]= np.log(df1[\"thickness\"])\n",
    "df1[\"selling_price_log\"]= np.log(df1[\"selling_price\"])"
   ]
  },
  {
   "cell_type": "code",
   "execution_count": 209,
   "metadata": {},
   "outputs": [],
   "source": [
    "skwed_columns_2=[\"quantity_tons_log\",\"customer_log\",\"thickness_log\",\"selling_price_log\"]\n"
   ]
  },
  {
   "cell_type": "code",
   "execution_count": 210,
   "metadata": {},
   "outputs": [],
   "source": [
    "#for i in skwed_columns_2:\n",
    " #plot(df1,i)"
   ]
  },
  {
   "cell_type": "markdown",
   "metadata": {},
   "source": [
    "Outliers Handling - Interquartile Range(IQR) Method\n",
    "\n"
   ]
  },
  {
   "cell_type": "code",
   "execution_count": 211,
   "metadata": {},
   "outputs": [],
   "source": [
    "df2= df1.copy()\n"
   ]
  },
  {
   "cell_type": "code",
   "execution_count": 212,
   "metadata": {},
   "outputs": [
    {
     "data": {
      "text/html": [
       "<div>\n",
       "<style scoped>\n",
       "    .dataframe tbody tr th:only-of-type {\n",
       "        vertical-align: middle;\n",
       "    }\n",
       "\n",
       "    .dataframe tbody tr th {\n",
       "        vertical-align: top;\n",
       "    }\n",
       "\n",
       "    .dataframe thead th {\n",
       "        text-align: right;\n",
       "    }\n",
       "</style>\n",
       "<table border=\"1\" class=\"dataframe\">\n",
       "  <thead>\n",
       "    <tr style=\"text-align: right;\">\n",
       "      <th></th>\n",
       "      <th>item_date</th>\n",
       "      <th>quantity tons</th>\n",
       "      <th>customer</th>\n",
       "      <th>country</th>\n",
       "      <th>status</th>\n",
       "      <th>item type</th>\n",
       "      <th>application</th>\n",
       "      <th>thickness</th>\n",
       "      <th>width</th>\n",
       "      <th>product_ref</th>\n",
       "      <th>delivery date</th>\n",
       "      <th>selling_price</th>\n",
       "      <th>item_date_1</th>\n",
       "      <th>delivery_date_1</th>\n",
       "      <th>quantity_tons_log</th>\n",
       "      <th>customer_log</th>\n",
       "      <th>thickness_log</th>\n",
       "      <th>selling_price_log</th>\n",
       "    </tr>\n",
       "  </thead>\n",
       "  <tbody>\n",
       "    <tr>\n",
       "      <th>0</th>\n",
       "      <td>20210401.0</td>\n",
       "      <td>54.151139</td>\n",
       "      <td>30156308.0</td>\n",
       "      <td>28.0</td>\n",
       "      <td>1</td>\n",
       "      <td>5.0</td>\n",
       "      <td>10.0</td>\n",
       "      <td>2.00</td>\n",
       "      <td>1500.0</td>\n",
       "      <td>1670798778</td>\n",
       "      <td>20210701.0</td>\n",
       "      <td>854.00</td>\n",
       "      <td>2021-04-01</td>\n",
       "      <td>2021-07-01</td>\n",
       "      <td>3.991779</td>\n",
       "      <td>17.221905</td>\n",
       "      <td>0.693147</td>\n",
       "      <td>6.749931</td>\n",
       "    </tr>\n",
       "    <tr>\n",
       "      <th>1</th>\n",
       "      <td>20210401.0</td>\n",
       "      <td>768.024839</td>\n",
       "      <td>30202938.0</td>\n",
       "      <td>25.0</td>\n",
       "      <td>1</td>\n",
       "      <td>5.0</td>\n",
       "      <td>41.0</td>\n",
       "      <td>0.80</td>\n",
       "      <td>1210.0</td>\n",
       "      <td>1668701718</td>\n",
       "      <td>20210401.0</td>\n",
       "      <td>1047.00</td>\n",
       "      <td>2021-04-01</td>\n",
       "      <td>2021-04-01</td>\n",
       "      <td>6.643822</td>\n",
       "      <td>17.223450</td>\n",
       "      <td>-0.223144</td>\n",
       "      <td>6.953684</td>\n",
       "    </tr>\n",
       "    <tr>\n",
       "      <th>2</th>\n",
       "      <td>20210401.0</td>\n",
       "      <td>386.127949</td>\n",
       "      <td>30153963.0</td>\n",
       "      <td>30.0</td>\n",
       "      <td>1</td>\n",
       "      <td>6.0</td>\n",
       "      <td>28.0</td>\n",
       "      <td>0.38</td>\n",
       "      <td>952.0</td>\n",
       "      <td>628377</td>\n",
       "      <td>20210101.0</td>\n",
       "      <td>644.33</td>\n",
       "      <td>2021-04-01</td>\n",
       "      <td>2021-01-01</td>\n",
       "      <td>5.956169</td>\n",
       "      <td>17.221827</td>\n",
       "      <td>-0.967584</td>\n",
       "      <td>6.468211</td>\n",
       "    </tr>\n",
       "    <tr>\n",
       "      <th>3</th>\n",
       "      <td>20210401.0</td>\n",
       "      <td>202.411065</td>\n",
       "      <td>30349574.0</td>\n",
       "      <td>32.0</td>\n",
       "      <td>1</td>\n",
       "      <td>3.0</td>\n",
       "      <td>59.0</td>\n",
       "      <td>2.30</td>\n",
       "      <td>1317.0</td>\n",
       "      <td>1668701718</td>\n",
       "      <td>20210101.0</td>\n",
       "      <td>768.00</td>\n",
       "      <td>2021-04-01</td>\n",
       "      <td>2021-01-01</td>\n",
       "      <td>5.310301</td>\n",
       "      <td>17.228293</td>\n",
       "      <td>0.832909</td>\n",
       "      <td>6.643790</td>\n",
       "    </tr>\n",
       "    <tr>\n",
       "      <th>4</th>\n",
       "      <td>20210401.0</td>\n",
       "      <td>785.526262</td>\n",
       "      <td>30211560.0</td>\n",
       "      <td>28.0</td>\n",
       "      <td>1</td>\n",
       "      <td>5.0</td>\n",
       "      <td>10.0</td>\n",
       "      <td>4.00</td>\n",
       "      <td>2000.0</td>\n",
       "      <td>640665</td>\n",
       "      <td>20210301.0</td>\n",
       "      <td>577.00</td>\n",
       "      <td>2021-04-01</td>\n",
       "      <td>2021-03-01</td>\n",
       "      <td>6.666354</td>\n",
       "      <td>17.223735</td>\n",
       "      <td>1.386294</td>\n",
       "      <td>6.357842</td>\n",
       "    </tr>\n",
       "  </tbody>\n",
       "</table>\n",
       "</div>"
      ],
      "text/plain": [
       "    item_date  quantity tons    customer  country  status  item type  \\\n",
       "0  20210401.0      54.151139  30156308.0     28.0       1        5.0   \n",
       "1  20210401.0     768.024839  30202938.0     25.0       1        5.0   \n",
       "2  20210401.0     386.127949  30153963.0     30.0       1        6.0   \n",
       "3  20210401.0     202.411065  30349574.0     32.0       1        3.0   \n",
       "4  20210401.0     785.526262  30211560.0     28.0       1        5.0   \n",
       "\n",
       "   application  thickness   width  product_ref  delivery date  selling_price  \\\n",
       "0         10.0       2.00  1500.0   1670798778     20210701.0         854.00   \n",
       "1         41.0       0.80  1210.0   1668701718     20210401.0        1047.00   \n",
       "2         28.0       0.38   952.0       628377     20210101.0         644.33   \n",
       "3         59.0       2.30  1317.0   1668701718     20210101.0         768.00   \n",
       "4         10.0       4.00  2000.0       640665     20210301.0         577.00   \n",
       "\n",
       "  item_date_1 delivery_date_1  quantity_tons_log  customer_log  thickness_log  \\\n",
       "0  2021-04-01      2021-07-01           3.991779     17.221905       0.693147   \n",
       "1  2021-04-01      2021-04-01           6.643822     17.223450      -0.223144   \n",
       "2  2021-04-01      2021-01-01           5.956169     17.221827      -0.967584   \n",
       "3  2021-04-01      2021-01-01           5.310301     17.228293       0.832909   \n",
       "4  2021-04-01      2021-03-01           6.666354     17.223735       1.386294   \n",
       "\n",
       "   selling_price_log  \n",
       "0           6.749931  \n",
       "1           6.953684  \n",
       "2           6.468211  \n",
       "3           6.643790  \n",
       "4           6.357842  "
      ]
     },
     "execution_count": 212,
     "metadata": {},
     "output_type": "execute_result"
    }
   ],
   "source": [
    "df2.head()\n"
   ]
  },
  {
   "cell_type": "markdown",
   "metadata": {},
   "source": [
    "IQR\n",
    "\n"
   ]
  },
  {
   "cell_type": "code",
   "execution_count": 213,
   "metadata": {},
   "outputs": [],
   "source": [
    "def outlier(df,column):\n",
    "  q1= df[column].quantile(0.25)\n",
    "  q3= df[column].quantile(0.75)\n",
    "\n",
    "  iqr= q3-q1\n",
    "\n",
    "  upper_threshold= q3 + (1.5*iqr)\n",
    "  lower_threshold= q1 - (1.5*iqr)\n",
    "\n",
    "  df[column]= df[column].clip(lower_threshold, upper_threshold)"
   ]
  },
  {
   "cell_type": "markdown",
   "metadata": {},
   "source": [
    "(Ex: lower threshold = 5 and upper threshold = 20)\n",
    "above upper threshold values (>20) are converted to upper threshold value (20) in features\n",
    "below lower threshold values (<5) are converted to lower threshold value (5) in features"
   ]
  },
  {
   "cell_type": "code",
   "execution_count": 214,
   "metadata": {},
   "outputs": [
    {
     "data": {
      "text/html": [
       "<div>\n",
       "<style scoped>\n",
       "    .dataframe tbody tr th:only-of-type {\n",
       "        vertical-align: middle;\n",
       "    }\n",
       "\n",
       "    .dataframe tbody tr th {\n",
       "        vertical-align: top;\n",
       "    }\n",
       "\n",
       "    .dataframe thead th {\n",
       "        text-align: right;\n",
       "    }\n",
       "</style>\n",
       "<table border=\"1\" class=\"dataframe\">\n",
       "  <thead>\n",
       "    <tr style=\"text-align: right;\">\n",
       "      <th></th>\n",
       "      <th>count</th>\n",
       "      <th>mean</th>\n",
       "      <th>std</th>\n",
       "      <th>min</th>\n",
       "      <th>25%</th>\n",
       "      <th>50%</th>\n",
       "      <th>75%</th>\n",
       "      <th>max</th>\n",
       "    </tr>\n",
       "  </thead>\n",
       "  <tbody>\n",
       "    <tr>\n",
       "      <th>item_date</th>\n",
       "      <td>181673.0</td>\n",
       "      <td>2.020459e+07</td>\n",
       "      <td>4.551114e+03</td>\n",
       "      <td>1.995000e+07</td>\n",
       "      <td>2.020093e+07</td>\n",
       "      <td>2.020113e+07</td>\n",
       "      <td>2.021020e+07</td>\n",
       "      <td>2.021040e+07</td>\n",
       "    </tr>\n",
       "    <tr>\n",
       "      <th>quantity tons</th>\n",
       "      <td>181673.0</td>\n",
       "      <td>5.874905e+03</td>\n",
       "      <td>2.349075e+06</td>\n",
       "      <td>1.000000e-05</td>\n",
       "      <td>1.097167e+01</td>\n",
       "      <td>3.036501e+01</td>\n",
       "      <td>6.716038e+01</td>\n",
       "      <td>1.000000e+09</td>\n",
       "    </tr>\n",
       "    <tr>\n",
       "      <th>customer</th>\n",
       "      <td>181673.0</td>\n",
       "      <td>3.051221e+07</td>\n",
       "      <td>2.433375e+07</td>\n",
       "      <td>1.245800e+04</td>\n",
       "      <td>3.019688e+07</td>\n",
       "      <td>3.020524e+07</td>\n",
       "      <td>3.028042e+07</td>\n",
       "      <td>2.147484e+09</td>\n",
       "    </tr>\n",
       "    <tr>\n",
       "      <th>country</th>\n",
       "      <td>181673.0</td>\n",
       "      <td>4.489073e+01</td>\n",
       "      <td>2.440303e+01</td>\n",
       "      <td>2.500000e+01</td>\n",
       "      <td>2.600000e+01</td>\n",
       "      <td>3.000000e+01</td>\n",
       "      <td>7.800000e+01</td>\n",
       "      <td>1.130000e+02</td>\n",
       "    </tr>\n",
       "    <tr>\n",
       "      <th>status</th>\n",
       "      <td>181673.0</td>\n",
       "      <td>1.316684e+00</td>\n",
       "      <td>1.330310e+00</td>\n",
       "      <td>0.000000e+00</td>\n",
       "      <td>1.000000e+00</td>\n",
       "      <td>1.000000e+00</td>\n",
       "      <td>1.000000e+00</td>\n",
       "      <td>8.000000e+00</td>\n",
       "    </tr>\n",
       "    <tr>\n",
       "      <th>item type</th>\n",
       "      <td>181673.0</td>\n",
       "      <td>4.133036e+00</td>\n",
       "      <td>1.055230e+00</td>\n",
       "      <td>0.000000e+00</td>\n",
       "      <td>3.000000e+00</td>\n",
       "      <td>5.000000e+00</td>\n",
       "      <td>5.000000e+00</td>\n",
       "      <td>6.000000e+00</td>\n",
       "    </tr>\n",
       "    <tr>\n",
       "      <th>application</th>\n",
       "      <td>181673.0</td>\n",
       "      <td>2.561441e+01</td>\n",
       "      <td>1.775342e+01</td>\n",
       "      <td>2.000000e+00</td>\n",
       "      <td>1.000000e+01</td>\n",
       "      <td>1.500000e+01</td>\n",
       "      <td>4.100000e+01</td>\n",
       "      <td>9.900000e+01</td>\n",
       "    </tr>\n",
       "    <tr>\n",
       "      <th>thickness</th>\n",
       "      <td>181673.0</td>\n",
       "      <td>2.564822e+00</td>\n",
       "      <td>6.572303e+00</td>\n",
       "      <td>1.800000e-01</td>\n",
       "      <td>7.000000e-01</td>\n",
       "      <td>1.500000e+00</td>\n",
       "      <td>3.000000e+00</td>\n",
       "      <td>2.500000e+03</td>\n",
       "    </tr>\n",
       "    <tr>\n",
       "      <th>width</th>\n",
       "      <td>181673.0</td>\n",
       "      <td>1.295287e+03</td>\n",
       "      <td>2.616318e+02</td>\n",
       "      <td>1.000000e+00</td>\n",
       "      <td>1.180000e+03</td>\n",
       "      <td>1.250000e+03</td>\n",
       "      <td>1.500000e+03</td>\n",
       "      <td>2.990000e+03</td>\n",
       "    </tr>\n",
       "    <tr>\n",
       "      <th>product_ref</th>\n",
       "      <td>181673.0</td>\n",
       "      <td>4.739679e+08</td>\n",
       "      <td>7.175101e+08</td>\n",
       "      <td>6.117280e+05</td>\n",
       "      <td>6.119930e+05</td>\n",
       "      <td>6.406650e+05</td>\n",
       "      <td>1.332077e+09</td>\n",
       "      <td>1.722208e+09</td>\n",
       "    </tr>\n",
       "    <tr>\n",
       "      <th>delivery date</th>\n",
       "      <td>181673.0</td>\n",
       "      <td>2.020738e+07</td>\n",
       "      <td>2.411052e+04</td>\n",
       "      <td>2.019040e+07</td>\n",
       "      <td>2.020110e+07</td>\n",
       "      <td>2.021010e+07</td>\n",
       "      <td>2.021040e+07</td>\n",
       "      <td>3.031010e+07</td>\n",
       "    </tr>\n",
       "    <tr>\n",
       "      <th>selling_price</th>\n",
       "      <td>181673.0</td>\n",
       "      <td>1.918076e+03</td>\n",
       "      <td>3.317947e+05</td>\n",
       "      <td>1.000000e-01</td>\n",
       "      <td>6.690000e+02</td>\n",
       "      <td>8.120000e+02</td>\n",
       "      <td>9.530000e+02</td>\n",
       "      <td>1.000010e+08</td>\n",
       "    </tr>\n",
       "    <tr>\n",
       "      <th>quantity_tons_log</th>\n",
       "      <td>181673.0</td>\n",
       "      <td>3.392111e+00</td>\n",
       "      <td>1.444849e+00</td>\n",
       "      <td>-1.151293e+01</td>\n",
       "      <td>2.395316e+00</td>\n",
       "      <td>3.413291e+00</td>\n",
       "      <td>4.207084e+00</td>\n",
       "      <td>2.072327e+01</td>\n",
       "    </tr>\n",
       "    <tr>\n",
       "      <th>customer_log</th>\n",
       "      <td>181673.0</td>\n",
       "      <td>1.722495e+01</td>\n",
       "      <td>5.235091e-02</td>\n",
       "      <td>9.430118e+00</td>\n",
       "      <td>1.722325e+01</td>\n",
       "      <td>1.722353e+01</td>\n",
       "      <td>1.722601e+01</td>\n",
       "      <td>2.148756e+01</td>\n",
       "    </tr>\n",
       "    <tr>\n",
       "      <th>thickness_log</th>\n",
       "      <td>181673.0</td>\n",
       "      <td>4.803721e-01</td>\n",
       "      <td>9.337702e-01</td>\n",
       "      <td>-1.714798e+00</td>\n",
       "      <td>-3.566749e-01</td>\n",
       "      <td>4.054651e-01</td>\n",
       "      <td>1.098612e+00</td>\n",
       "      <td>7.824046e+00</td>\n",
       "    </tr>\n",
       "    <tr>\n",
       "      <th>selling_price_log</th>\n",
       "      <td>181673.0</td>\n",
       "      <td>6.625890e+00</td>\n",
       "      <td>5.653909e-01</td>\n",
       "      <td>-2.302585e+00</td>\n",
       "      <td>6.505784e+00</td>\n",
       "      <td>6.699500e+00</td>\n",
       "      <td>6.859615e+00</td>\n",
       "      <td>1.842069e+01</td>\n",
       "    </tr>\n",
       "  </tbody>\n",
       "</table>\n",
       "</div>"
      ],
      "text/plain": [
       "                      count          mean           std           min  \\\n",
       "item_date          181673.0  2.020459e+07  4.551114e+03  1.995000e+07   \n",
       "quantity tons      181673.0  5.874905e+03  2.349075e+06  1.000000e-05   \n",
       "customer           181673.0  3.051221e+07  2.433375e+07  1.245800e+04   \n",
       "country            181673.0  4.489073e+01  2.440303e+01  2.500000e+01   \n",
       "status             181673.0  1.316684e+00  1.330310e+00  0.000000e+00   \n",
       "item type          181673.0  4.133036e+00  1.055230e+00  0.000000e+00   \n",
       "application        181673.0  2.561441e+01  1.775342e+01  2.000000e+00   \n",
       "thickness          181673.0  2.564822e+00  6.572303e+00  1.800000e-01   \n",
       "width              181673.0  1.295287e+03  2.616318e+02  1.000000e+00   \n",
       "product_ref        181673.0  4.739679e+08  7.175101e+08  6.117280e+05   \n",
       "delivery date      181673.0  2.020738e+07  2.411052e+04  2.019040e+07   \n",
       "selling_price      181673.0  1.918076e+03  3.317947e+05  1.000000e-01   \n",
       "quantity_tons_log  181673.0  3.392111e+00  1.444849e+00 -1.151293e+01   \n",
       "customer_log       181673.0  1.722495e+01  5.235091e-02  9.430118e+00   \n",
       "thickness_log      181673.0  4.803721e-01  9.337702e-01 -1.714798e+00   \n",
       "selling_price_log  181673.0  6.625890e+00  5.653909e-01 -2.302585e+00   \n",
       "\n",
       "                            25%           50%           75%           max  \n",
       "item_date          2.020093e+07  2.020113e+07  2.021020e+07  2.021040e+07  \n",
       "quantity tons      1.097167e+01  3.036501e+01  6.716038e+01  1.000000e+09  \n",
       "customer           3.019688e+07  3.020524e+07  3.028042e+07  2.147484e+09  \n",
       "country            2.600000e+01  3.000000e+01  7.800000e+01  1.130000e+02  \n",
       "status             1.000000e+00  1.000000e+00  1.000000e+00  8.000000e+00  \n",
       "item type          3.000000e+00  5.000000e+00  5.000000e+00  6.000000e+00  \n",
       "application        1.000000e+01  1.500000e+01  4.100000e+01  9.900000e+01  \n",
       "thickness          7.000000e-01  1.500000e+00  3.000000e+00  2.500000e+03  \n",
       "width              1.180000e+03  1.250000e+03  1.500000e+03  2.990000e+03  \n",
       "product_ref        6.119930e+05  6.406650e+05  1.332077e+09  1.722208e+09  \n",
       "delivery date      2.020110e+07  2.021010e+07  2.021040e+07  3.031010e+07  \n",
       "selling_price      6.690000e+02  8.120000e+02  9.530000e+02  1.000010e+08  \n",
       "quantity_tons_log  2.395316e+00  3.413291e+00  4.207084e+00  2.072327e+01  \n",
       "customer_log       1.722325e+01  1.722353e+01  1.722601e+01  2.148756e+01  \n",
       "thickness_log     -3.566749e-01  4.054651e-01  1.098612e+00  7.824046e+00  \n",
       "selling_price_log  6.505784e+00  6.699500e+00  6.859615e+00  1.842069e+01  "
      ]
     },
     "execution_count": 214,
     "metadata": {},
     "output_type": "execute_result"
    }
   ],
   "source": [
    "df2.describe().T\n"
   ]
  },
  {
   "cell_type": "code",
   "execution_count": 215,
   "metadata": {},
   "outputs": [],
   "source": [
    "outlier_columns= ['quantity_tons_log', 'customer_log', 'thickness_log','selling_price_log','width','application']\n"
   ]
  },
  {
   "cell_type": "code",
   "execution_count": 216,
   "metadata": {},
   "outputs": [],
   "source": [
    "#for i in outlier_columns:\n",
    "  #outlier(df2,i)"
   ]
  },
  {
   "cell_type": "code",
   "execution_count": 217,
   "metadata": {},
   "outputs": [],
   "source": [
    "#Droping the unwanted skewed columns\n",
    "#Skewed columns:\n",
    "# 1.quantity tons\n",
    "# 2.customer\n",
    "# 3.thickness\n",
    "# 4.selling_price\n",
    "\n",
    "df3= df2.drop(columns=[\"quantity tons\",\"customer\",\"thickness\",\"selling_price\"])\n",
    "     "
   ]
  },
  {
   "cell_type": "code",
   "execution_count": 218,
   "metadata": {},
   "outputs": [
    {
     "data": {
      "image/png": "[encoded data removed]",
      "text/plain": [
       "<Figure size 1000x300 with 2 Axes>"
      ]
     },
     "metadata": {},
     "output_type": "display_data"
    }
   ],
   "source": [
    "#Checking the correlation with using the heatmap\n",
    "\n",
    "corr= df3.drop(columns=[\"item_date\",\"delivery date\",\"item_date_1\",\"delivery_date_1\"]).corr()\n",
    "plt.figure(figsize=(10,3))\n",
    "sns.heatmap(corr, annot= True, fmt=\"0.2f\")\n",
    "plt.show()"
   ]
  },
  {
   "cell_type": "markdown",
   "metadata": {},
   "source": [
    "Wrong delivery date handling using ML prediction\n",
    "\n"
   ]
  },
  {
   "cell_type": "code",
   "execution_count": 219,
   "metadata": {},
   "outputs": [],
   "source": [
    "df4= df3.copy()\n"
   ]
  },
  {
   "cell_type": "code",
   "execution_count": 220,
   "metadata": {},
   "outputs": [
    {
     "data": {
      "text/html": [
       "<div>\n",
       "<style scoped>\n",
       "    .dataframe tbody tr th:only-of-type {\n",
       "        vertical-align: middle;\n",
       "    }\n",
       "\n",
       "    .dataframe tbody tr th {\n",
       "        vertical-align: top;\n",
       "    }\n",
       "\n",
       "    .dataframe thead th {\n",
       "        text-align: right;\n",
       "    }\n",
       "</style>\n",
       "<table border=\"1\" class=\"dataframe\">\n",
       "  <thead>\n",
       "    <tr style=\"text-align: right;\">\n",
       "      <th></th>\n",
       "      <th>item_date</th>\n",
       "      <th>country</th>\n",
       "      <th>status</th>\n",
       "      <th>item type</th>\n",
       "      <th>application</th>\n",
       "      <th>width</th>\n",
       "      <th>product_ref</th>\n",
       "      <th>delivery date</th>\n",
       "      <th>item_date_1</th>\n",
       "      <th>delivery_date_1</th>\n",
       "      <th>quantity_tons_log</th>\n",
       "      <th>customer_log</th>\n",
       "      <th>thickness_log</th>\n",
       "      <th>selling_price_log</th>\n",
       "    </tr>\n",
       "  </thead>\n",
       "  <tbody>\n",
       "    <tr>\n",
       "      <th>0</th>\n",
       "      <td>20210401.0</td>\n",
       "      <td>28.0</td>\n",
       "      <td>1</td>\n",
       "      <td>5.0</td>\n",
       "      <td>10.0</td>\n",
       "      <td>1500.0</td>\n",
       "      <td>1670798778</td>\n",
       "      <td>20210701.0</td>\n",
       "      <td>2021-04-01</td>\n",
       "      <td>2021-07-01</td>\n",
       "      <td>3.991779</td>\n",
       "      <td>17.221905</td>\n",
       "      <td>0.693147</td>\n",
       "      <td>6.749931</td>\n",
       "    </tr>\n",
       "    <tr>\n",
       "      <th>1</th>\n",
       "      <td>20210401.0</td>\n",
       "      <td>25.0</td>\n",
       "      <td>1</td>\n",
       "      <td>5.0</td>\n",
       "      <td>41.0</td>\n",
       "      <td>1210.0</td>\n",
       "      <td>1668701718</td>\n",
       "      <td>20210401.0</td>\n",
       "      <td>2021-04-01</td>\n",
       "      <td>2021-04-01</td>\n",
       "      <td>6.643822</td>\n",
       "      <td>17.223450</td>\n",
       "      <td>-0.223144</td>\n",
       "      <td>6.953684</td>\n",
       "    </tr>\n",
       "    <tr>\n",
       "      <th>2</th>\n",
       "      <td>20210401.0</td>\n",
       "      <td>30.0</td>\n",
       "      <td>1</td>\n",
       "      <td>6.0</td>\n",
       "      <td>28.0</td>\n",
       "      <td>952.0</td>\n",
       "      <td>628377</td>\n",
       "      <td>20210101.0</td>\n",
       "      <td>2021-04-01</td>\n",
       "      <td>2021-01-01</td>\n",
       "      <td>5.956169</td>\n",
       "      <td>17.221827</td>\n",
       "      <td>-0.967584</td>\n",
       "      <td>6.468211</td>\n",
       "    </tr>\n",
       "    <tr>\n",
       "      <th>3</th>\n",
       "      <td>20210401.0</td>\n",
       "      <td>32.0</td>\n",
       "      <td>1</td>\n",
       "      <td>3.0</td>\n",
       "      <td>59.0</td>\n",
       "      <td>1317.0</td>\n",
       "      <td>1668701718</td>\n",
       "      <td>20210101.0</td>\n",
       "      <td>2021-04-01</td>\n",
       "      <td>2021-01-01</td>\n",
       "      <td>5.310301</td>\n",
       "      <td>17.228293</td>\n",
       "      <td>0.832909</td>\n",
       "      <td>6.643790</td>\n",
       "    </tr>\n",
       "    <tr>\n",
       "      <th>4</th>\n",
       "      <td>20210401.0</td>\n",
       "      <td>28.0</td>\n",
       "      <td>1</td>\n",
       "      <td>5.0</td>\n",
       "      <td>10.0</td>\n",
       "      <td>2000.0</td>\n",
       "      <td>640665</td>\n",
       "      <td>20210301.0</td>\n",
       "      <td>2021-04-01</td>\n",
       "      <td>2021-03-01</td>\n",
       "      <td>6.666354</td>\n",
       "      <td>17.223735</td>\n",
       "      <td>1.386294</td>\n",
       "      <td>6.357842</td>\n",
       "    </tr>\n",
       "  </tbody>\n",
       "</table>\n",
       "</div>"
      ],
      "text/plain": [
       "    item_date  country  status  item type  application   width  product_ref  \\\n",
       "0  20210401.0     28.0       1        5.0         10.0  1500.0   1670798778   \n",
       "1  20210401.0     25.0       1        5.0         41.0  1210.0   1668701718   \n",
       "2  20210401.0     30.0       1        6.0         28.0   952.0       628377   \n",
       "3  20210401.0     32.0       1        3.0         59.0  1317.0   1668701718   \n",
       "4  20210401.0     28.0       1        5.0         10.0  2000.0       640665   \n",
       "\n",
       "   delivery date item_date_1 delivery_date_1  quantity_tons_log  customer_log  \\\n",
       "0     20210701.0  2021-04-01      2021-07-01           3.991779     17.221905   \n",
       "1     20210401.0  2021-04-01      2021-04-01           6.643822     17.223450   \n",
       "2     20210101.0  2021-04-01      2021-01-01           5.956169     17.221827   \n",
       "3     20210101.0  2021-04-01      2021-01-01           5.310301     17.228293   \n",
       "4     20210301.0  2021-04-01      2021-03-01           6.666354     17.223735   \n",
       "\n",
       "   thickness_log  selling_price_log  \n",
       "0       0.693147           6.749931  \n",
       "1      -0.223144           6.953684  \n",
       "2      -0.967584           6.468211  \n",
       "3       0.832909           6.643790  \n",
       "4       1.386294           6.357842  "
      ]
     },
     "execution_count": 220,
     "metadata": {},
     "output_type": "execute_result"
    }
   ],
   "source": [
    "df4.head(5)\n"
   ]
  },
  {
   "cell_type": "code",
   "execution_count": 221,
   "metadata": {},
   "outputs": [
    {
     "data": {
      "text/plain": [
       "item_date            float64\n",
       "country              float64\n",
       "status                 int64\n",
       "item type            float64\n",
       "application          float64\n",
       "width                float64\n",
       "product_ref            int64\n",
       "delivery date        float64\n",
       "item_date_1           object\n",
       "delivery_date_1       object\n",
       "quantity_tons_log    float64\n",
       "customer_log         float64\n",
       "thickness_log        float64\n",
       "selling_price_log    float64\n",
       "dtype: object"
      ]
     },
     "execution_count": 221,
     "metadata": {},
     "output_type": "execute_result"
    }
   ],
   "source": [
    "df4.dtypes\n"
   ]
  },
  {
   "cell_type": "code",
   "execution_count": 222,
   "metadata": {},
   "outputs": [],
   "source": [
    "#converting the datatype (object to datetime format)\n",
    "df4[\"delivery_date_1\"]= pd.to_datetime(df4[\"delivery_date_1\"])\n",
    "df4[\"item_date_1\"]= pd.to_datetime(df4[\"item_date_1\"])"
   ]
  },
  {
   "cell_type": "code",
   "execution_count": 223,
   "metadata": {},
   "outputs": [],
   "source": [
    "#identifying the difference of the \"delivery date\" and the \"item date\"\n",
    "df4[\"date_differ\"]= (df4[\"delivery_date_1\"]-df4[\"item_date_1\"]).dt.days"
   ]
  },
  {
   "cell_type": "code",
   "execution_count": 224,
   "metadata": {},
   "outputs": [
    {
     "data": {
      "text/plain": [
       "0         91\n",
       "1          0\n",
       "2        -90\n",
       "3        -90\n",
       "4        -31\n",
       "          ..\n",
       "181668    -1\n",
       "181669    -1\n",
       "181670    -1\n",
       "181671    -1\n",
       "181672    -1\n",
       "Name: date_differ, Length: 181673, dtype: int64"
      ]
     },
     "execution_count": 224,
     "metadata": {},
     "output_type": "execute_result"
    }
   ],
   "source": [
    "df4[\"date_differ\"]"
   ]
  },
  {
   "cell_type": "markdown",
   "metadata": {},
   "source": [
    "some values have a negative values\n",
    "it's mean the \"delivery date provides , the previous date then the \"item date\"\n",
    "so this is not possible , so we want to predic the delivery date for the some datas"
   ]
  },
  {
   "cell_type": "code",
   "execution_count": 225,
   "metadata": {},
   "outputs": [],
   "source": [
    "#creating the another 3 columns using the \"item_date_1\"\n",
    "# it is usefull for the delivery date prediction\n",
    "df4[\"item_date_day\"]= df4[\"item_date_1\"].dt.day\n",
    "df4[\"item_date_month\"]= df4[\"item_date_1\"].dt.month\n",
    "df4[\"item_date_year\"]= df4[\"item_date_1\"].dt.year"
   ]
  },
  {
   "cell_type": "code",
   "execution_count": 226,
   "metadata": {},
   "outputs": [
    {
     "data": {
      "text/html": [
       "<div>\n",
       "<style scoped>\n",
       "    .dataframe tbody tr th:only-of-type {\n",
       "        vertical-align: middle;\n",
       "    }\n",
       "\n",
       "    .dataframe tbody tr th {\n",
       "        vertical-align: top;\n",
       "    }\n",
       "\n",
       "    .dataframe thead th {\n",
       "        text-align: right;\n",
       "    }\n",
       "</style>\n",
       "<table border=\"1\" class=\"dataframe\">\n",
       "  <thead>\n",
       "    <tr style=\"text-align: right;\">\n",
       "      <th></th>\n",
       "      <th>item_date</th>\n",
       "      <th>country</th>\n",
       "      <th>status</th>\n",
       "      <th>item type</th>\n",
       "      <th>application</th>\n",
       "      <th>width</th>\n",
       "      <th>product_ref</th>\n",
       "      <th>delivery date</th>\n",
       "      <th>item_date_1</th>\n",
       "      <th>delivery_date_1</th>\n",
       "      <th>quantity_tons_log</th>\n",
       "      <th>customer_log</th>\n",
       "      <th>thickness_log</th>\n",
       "      <th>selling_price_log</th>\n",
       "      <th>date_differ</th>\n",
       "      <th>item_date_day</th>\n",
       "      <th>item_date_month</th>\n",
       "      <th>item_date_year</th>\n",
       "    </tr>\n",
       "  </thead>\n",
       "  <tbody>\n",
       "    <tr>\n",
       "      <th>0</th>\n",
       "      <td>20210401.0</td>\n",
       "      <td>28.0</td>\n",
       "      <td>1</td>\n",
       "      <td>5.0</td>\n",
       "      <td>10.0</td>\n",
       "      <td>1500.0</td>\n",
       "      <td>1670798778</td>\n",
       "      <td>20210701.0</td>\n",
       "      <td>2021-04-01</td>\n",
       "      <td>2021-07-01</td>\n",
       "      <td>3.991779</td>\n",
       "      <td>17.221905</td>\n",
       "      <td>0.693147</td>\n",
       "      <td>6.749931</td>\n",
       "      <td>91</td>\n",
       "      <td>1</td>\n",
       "      <td>4</td>\n",
       "      <td>2021</td>\n",
       "    </tr>\n",
       "    <tr>\n",
       "      <th>1</th>\n",
       "      <td>20210401.0</td>\n",
       "      <td>25.0</td>\n",
       "      <td>1</td>\n",
       "      <td>5.0</td>\n",
       "      <td>41.0</td>\n",
       "      <td>1210.0</td>\n",
       "      <td>1668701718</td>\n",
       "      <td>20210401.0</td>\n",
       "      <td>2021-04-01</td>\n",
       "      <td>2021-04-01</td>\n",
       "      <td>6.643822</td>\n",
       "      <td>17.223450</td>\n",
       "      <td>-0.223144</td>\n",
       "      <td>6.953684</td>\n",
       "      <td>0</td>\n",
       "      <td>1</td>\n",
       "      <td>4</td>\n",
       "      <td>2021</td>\n",
       "    </tr>\n",
       "    <tr>\n",
       "      <th>2</th>\n",
       "      <td>20210401.0</td>\n",
       "      <td>30.0</td>\n",
       "      <td>1</td>\n",
       "      <td>6.0</td>\n",
       "      <td>28.0</td>\n",
       "      <td>952.0</td>\n",
       "      <td>628377</td>\n",
       "      <td>20210101.0</td>\n",
       "      <td>2021-04-01</td>\n",
       "      <td>2021-01-01</td>\n",
       "      <td>5.956169</td>\n",
       "      <td>17.221827</td>\n",
       "      <td>-0.967584</td>\n",
       "      <td>6.468211</td>\n",
       "      <td>-90</td>\n",
       "      <td>1</td>\n",
       "      <td>4</td>\n",
       "      <td>2021</td>\n",
       "    </tr>\n",
       "    <tr>\n",
       "      <th>3</th>\n",
       "      <td>20210401.0</td>\n",
       "      <td>32.0</td>\n",
       "      <td>1</td>\n",
       "      <td>3.0</td>\n",
       "      <td>59.0</td>\n",
       "      <td>1317.0</td>\n",
       "      <td>1668701718</td>\n",
       "      <td>20210101.0</td>\n",
       "      <td>2021-04-01</td>\n",
       "      <td>2021-01-01</td>\n",
       "      <td>5.310301</td>\n",
       "      <td>17.228293</td>\n",
       "      <td>0.832909</td>\n",
       "      <td>6.643790</td>\n",
       "      <td>-90</td>\n",
       "      <td>1</td>\n",
       "      <td>4</td>\n",
       "      <td>2021</td>\n",
       "    </tr>\n",
       "    <tr>\n",
       "      <th>4</th>\n",
       "      <td>20210401.0</td>\n",
       "      <td>28.0</td>\n",
       "      <td>1</td>\n",
       "      <td>5.0</td>\n",
       "      <td>10.0</td>\n",
       "      <td>2000.0</td>\n",
       "      <td>640665</td>\n",
       "      <td>20210301.0</td>\n",
       "      <td>2021-04-01</td>\n",
       "      <td>2021-03-01</td>\n",
       "      <td>6.666354</td>\n",
       "      <td>17.223735</td>\n",
       "      <td>1.386294</td>\n",
       "      <td>6.357842</td>\n",
       "      <td>-31</td>\n",
       "      <td>1</td>\n",
       "      <td>4</td>\n",
       "      <td>2021</td>\n",
       "    </tr>\n",
       "  </tbody>\n",
       "</table>\n",
       "</div>"
      ],
      "text/plain": [
       "    item_date  country  status  item type  application   width  product_ref  \\\n",
       "0  20210401.0     28.0       1        5.0         10.0  1500.0   1670798778   \n",
       "1  20210401.0     25.0       1        5.0         41.0  1210.0   1668701718   \n",
       "2  20210401.0     30.0       1        6.0         28.0   952.0       628377   \n",
       "3  20210401.0     32.0       1        3.0         59.0  1317.0   1668701718   \n",
       "4  20210401.0     28.0       1        5.0         10.0  2000.0       640665   \n",
       "\n",
       "   delivery date item_date_1 delivery_date_1  quantity_tons_log  customer_log  \\\n",
       "0     20210701.0  2021-04-01      2021-07-01           3.991779     17.221905   \n",
       "1     20210401.0  2021-04-01      2021-04-01           6.643822     17.223450   \n",
       "2     20210101.0  2021-04-01      2021-01-01           5.956169     17.221827   \n",
       "3     20210101.0  2021-04-01      2021-01-01           5.310301     17.228293   \n",
       "4     20210301.0  2021-04-01      2021-03-01           6.666354     17.223735   \n",
       "\n",
       "   thickness_log  selling_price_log  date_differ  item_date_day  \\\n",
       "0       0.693147           6.749931           91              1   \n",
       "1      -0.223144           6.953684            0              1   \n",
       "2      -0.967584           6.468211          -90              1   \n",
       "3       0.832909           6.643790          -90              1   \n",
       "4       1.386294           6.357842          -31              1   \n",
       "\n",
       "   item_date_month  item_date_year  \n",
       "0                4            2021  \n",
       "1                4            2021  \n",
       "2                4            2021  \n",
       "3                4            2021  \n",
       "4                4            2021  "
      ]
     },
     "execution_count": 226,
     "metadata": {},
     "output_type": "execute_result"
    }
   ],
   "source": [
    "df4.head(5)\n"
   ]
  },
  {
   "cell_type": "code",
   "execution_count": 227,
   "metadata": {},
   "outputs": [],
   "source": [
    "#separating the posive values(pv) dataframe and negative values(nv) dataframe based on the \"date_differ\" column\n",
    "df4_pv= df4[df4[\"date_differ\"]>=0]\n",
    "df4_pv.reset_index(drop= True, inplace= True)"
   ]
  },
  {
   "cell_type": "code",
   "execution_count": 228,
   "metadata": {},
   "outputs": [
    {
     "data": {
      "text/html": [
       "<div>\n",
       "<style scoped>\n",
       "    .dataframe tbody tr th:only-of-type {\n",
       "        vertical-align: middle;\n",
       "    }\n",
       "\n",
       "    .dataframe tbody tr th {\n",
       "        vertical-align: top;\n",
       "    }\n",
       "\n",
       "    .dataframe thead th {\n",
       "        text-align: right;\n",
       "    }\n",
       "</style>\n",
       "<table border=\"1\" class=\"dataframe\">\n",
       "  <thead>\n",
       "    <tr style=\"text-align: right;\">\n",
       "      <th></th>\n",
       "      <th>item_date</th>\n",
       "      <th>country</th>\n",
       "      <th>status</th>\n",
       "      <th>item type</th>\n",
       "      <th>application</th>\n",
       "      <th>width</th>\n",
       "      <th>product_ref</th>\n",
       "      <th>delivery date</th>\n",
       "      <th>item_date_1</th>\n",
       "      <th>delivery_date_1</th>\n",
       "      <th>quantity_tons_log</th>\n",
       "      <th>customer_log</th>\n",
       "      <th>thickness_log</th>\n",
       "      <th>selling_price_log</th>\n",
       "      <th>date_differ</th>\n",
       "      <th>item_date_day</th>\n",
       "      <th>item_date_month</th>\n",
       "      <th>item_date_year</th>\n",
       "    </tr>\n",
       "  </thead>\n",
       "  <tbody>\n",
       "    <tr>\n",
       "      <th>165560</th>\n",
       "      <td>20200702.0</td>\n",
       "      <td>25.0</td>\n",
       "      <td>0</td>\n",
       "      <td>3.0</td>\n",
       "      <td>15.0</td>\n",
       "      <td>2000.0</td>\n",
       "      <td>640665</td>\n",
       "      <td>20200801.0</td>\n",
       "      <td>2020-07-02</td>\n",
       "      <td>2020-08-01</td>\n",
       "      <td>3.472467</td>\n",
       "      <td>17.224270</td>\n",
       "      <td>1.791759</td>\n",
       "      <td>6.313548</td>\n",
       "      <td>30</td>\n",
       "      <td>2</td>\n",
       "      <td>7</td>\n",
       "      <td>2020</td>\n",
       "    </tr>\n",
       "    <tr>\n",
       "      <th>165561</th>\n",
       "      <td>20200702.0</td>\n",
       "      <td>30.0</td>\n",
       "      <td>0</td>\n",
       "      <td>3.0</td>\n",
       "      <td>10.0</td>\n",
       "      <td>1525.0</td>\n",
       "      <td>640665</td>\n",
       "      <td>20200801.0</td>\n",
       "      <td>2020-07-02</td>\n",
       "      <td>2020-08-01</td>\n",
       "      <td>4.196171</td>\n",
       "      <td>17.222079</td>\n",
       "      <td>1.348073</td>\n",
       "      <td>6.126869</td>\n",
       "      <td>30</td>\n",
       "      <td>2</td>\n",
       "      <td>7</td>\n",
       "      <td>2020</td>\n",
       "    </tr>\n",
       "    <tr>\n",
       "      <th>165562</th>\n",
       "      <td>20200702.0</td>\n",
       "      <td>30.0</td>\n",
       "      <td>0</td>\n",
       "      <td>3.0</td>\n",
       "      <td>10.0</td>\n",
       "      <td>1525.0</td>\n",
       "      <td>640665</td>\n",
       "      <td>20200801.0</td>\n",
       "      <td>2020-07-02</td>\n",
       "      <td>2020-08-01</td>\n",
       "      <td>4.156686</td>\n",
       "      <td>17.222079</td>\n",
       "      <td>1.766442</td>\n",
       "      <td>6.124683</td>\n",
       "      <td>30</td>\n",
       "      <td>2</td>\n",
       "      <td>7</td>\n",
       "      <td>2020</td>\n",
       "    </tr>\n",
       "    <tr>\n",
       "      <th>165563</th>\n",
       "      <td>20200702.0</td>\n",
       "      <td>30.0</td>\n",
       "      <td>0</td>\n",
       "      <td>3.0</td>\n",
       "      <td>10.0</td>\n",
       "      <td>1500.0</td>\n",
       "      <td>640665</td>\n",
       "      <td>20200801.0</td>\n",
       "      <td>2020-07-02</td>\n",
       "      <td>2020-08-01</td>\n",
       "      <td>4.025862</td>\n",
       "      <td>17.222079</td>\n",
       "      <td>2.060514</td>\n",
       "      <td>6.126869</td>\n",
       "      <td>30</td>\n",
       "      <td>2</td>\n",
       "      <td>7</td>\n",
       "      <td>2020</td>\n",
       "    </tr>\n",
       "    <tr>\n",
       "      <th>165564</th>\n",
       "      <td>20200702.0</td>\n",
       "      <td>30.0</td>\n",
       "      <td>0</td>\n",
       "      <td>3.0</td>\n",
       "      <td>10.0</td>\n",
       "      <td>1830.0</td>\n",
       "      <td>640665</td>\n",
       "      <td>20200801.0</td>\n",
       "      <td>2020-07-02</td>\n",
       "      <td>2020-08-01</td>\n",
       "      <td>5.328963</td>\n",
       "      <td>17.222079</td>\n",
       "      <td>1.348073</td>\n",
       "      <td>6.131226</td>\n",
       "      <td>30</td>\n",
       "      <td>2</td>\n",
       "      <td>7</td>\n",
       "      <td>2020</td>\n",
       "    </tr>\n",
       "  </tbody>\n",
       "</table>\n",
       "</div>"
      ],
      "text/plain": [
       "         item_date  country  status  item type  application   width  \\\n",
       "165560  20200702.0     25.0       0        3.0         15.0  2000.0   \n",
       "165561  20200702.0     30.0       0        3.0         10.0  1525.0   \n",
       "165562  20200702.0     30.0       0        3.0         10.0  1525.0   \n",
       "165563  20200702.0     30.0       0        3.0         10.0  1500.0   \n",
       "165564  20200702.0     30.0       0        3.0         10.0  1830.0   \n",
       "\n",
       "        product_ref  delivery date item_date_1 delivery_date_1  \\\n",
       "165560       640665     20200801.0  2020-07-02      2020-08-01   \n",
       "165561       640665     20200801.0  2020-07-02      2020-08-01   \n",
       "165562       640665     20200801.0  2020-07-02      2020-08-01   \n",
       "165563       640665     20200801.0  2020-07-02      2020-08-01   \n",
       "165564       640665     20200801.0  2020-07-02      2020-08-01   \n",
       "\n",
       "        quantity_tons_log  customer_log  thickness_log  selling_price_log  \\\n",
       "165560           3.472467     17.224270       1.791759           6.313548   \n",
       "165561           4.196171     17.222079       1.348073           6.126869   \n",
       "165562           4.156686     17.222079       1.766442           6.124683   \n",
       "165563           4.025862     17.222079       2.060514           6.126869   \n",
       "165564           5.328963     17.222079       1.348073           6.131226   \n",
       "\n",
       "        date_differ  item_date_day  item_date_month  item_date_year  \n",
       "165560           30              2                7            2020  \n",
       "165561           30              2                7            2020  \n",
       "165562           30              2                7            2020  \n",
       "165563           30              2                7            2020  \n",
       "165564           30              2                7            2020  "
      ]
     },
     "execution_count": 228,
     "metadata": {},
     "output_type": "execute_result"
    }
   ],
   "source": [
    "df4_pv.tail()\n"
   ]
  },
  {
   "cell_type": "code",
   "execution_count": 229,
   "metadata": {},
   "outputs": [],
   "source": [
    "df4_nv= df4[df4[\"date_differ\"]<0]\n",
    "df4_nv.reset_index(drop= True, inplace= True)"
   ]
  },
  {
   "cell_type": "code",
   "execution_count": 230,
   "metadata": {},
   "outputs": [
    {
     "data": {
      "text/html": [
       "<div>\n",
       "<style scoped>\n",
       "    .dataframe tbody tr th:only-of-type {\n",
       "        vertical-align: middle;\n",
       "    }\n",
       "\n",
       "    .dataframe tbody tr th {\n",
       "        vertical-align: top;\n",
       "    }\n",
       "\n",
       "    .dataframe thead th {\n",
       "        text-align: right;\n",
       "    }\n",
       "</style>\n",
       "<table border=\"1\" class=\"dataframe\">\n",
       "  <thead>\n",
       "    <tr style=\"text-align: right;\">\n",
       "      <th></th>\n",
       "      <th>item_date</th>\n",
       "      <th>country</th>\n",
       "      <th>status</th>\n",
       "      <th>item type</th>\n",
       "      <th>application</th>\n",
       "      <th>width</th>\n",
       "      <th>product_ref</th>\n",
       "      <th>delivery date</th>\n",
       "      <th>item_date_1</th>\n",
       "      <th>delivery_date_1</th>\n",
       "      <th>quantity_tons_log</th>\n",
       "      <th>customer_log</th>\n",
       "      <th>thickness_log</th>\n",
       "      <th>selling_price_log</th>\n",
       "      <th>date_differ</th>\n",
       "      <th>item_date_day</th>\n",
       "      <th>item_date_month</th>\n",
       "      <th>item_date_year</th>\n",
       "    </tr>\n",
       "  </thead>\n",
       "  <tbody>\n",
       "    <tr>\n",
       "      <th>16103</th>\n",
       "      <td>20200702.0</td>\n",
       "      <td>25.0</td>\n",
       "      <td>1</td>\n",
       "      <td>5.0</td>\n",
       "      <td>41.0</td>\n",
       "      <td>1220.0</td>\n",
       "      <td>164141591</td>\n",
       "      <td>20200701.0</td>\n",
       "      <td>2020-07-02</td>\n",
       "      <td>2020-07-01</td>\n",
       "      <td>4.629691</td>\n",
       "      <td>17.223381</td>\n",
       "      <td>-0.040822</td>\n",
       "      <td>6.381816</td>\n",
       "      <td>-1</td>\n",
       "      <td>2</td>\n",
       "      <td>7</td>\n",
       "      <td>2020</td>\n",
       "    </tr>\n",
       "    <tr>\n",
       "      <th>16104</th>\n",
       "      <td>20200702.0</td>\n",
       "      <td>25.0</td>\n",
       "      <td>1</td>\n",
       "      <td>5.0</td>\n",
       "      <td>41.0</td>\n",
       "      <td>1500.0</td>\n",
       "      <td>164141591</td>\n",
       "      <td>20200701.0</td>\n",
       "      <td>2020-07-02</td>\n",
       "      <td>2020-07-01</td>\n",
       "      <td>5.337954</td>\n",
       "      <td>17.223381</td>\n",
       "      <td>-0.051293</td>\n",
       "      <td>6.378426</td>\n",
       "      <td>-1</td>\n",
       "      <td>2</td>\n",
       "      <td>7</td>\n",
       "      <td>2020</td>\n",
       "    </tr>\n",
       "    <tr>\n",
       "      <th>16105</th>\n",
       "      <td>20200702.0</td>\n",
       "      <td>25.0</td>\n",
       "      <td>1</td>\n",
       "      <td>5.0</td>\n",
       "      <td>41.0</td>\n",
       "      <td>1250.0</td>\n",
       "      <td>164141591</td>\n",
       "      <td>20200701.0</td>\n",
       "      <td>2020-07-02</td>\n",
       "      <td>2020-07-01</td>\n",
       "      <td>1.443523</td>\n",
       "      <td>17.223381</td>\n",
       "      <td>-0.342490</td>\n",
       "      <td>6.428105</td>\n",
       "      <td>-1</td>\n",
       "      <td>2</td>\n",
       "      <td>7</td>\n",
       "      <td>2020</td>\n",
       "    </tr>\n",
       "    <tr>\n",
       "      <th>16106</th>\n",
       "      <td>20200702.0</td>\n",
       "      <td>25.0</td>\n",
       "      <td>1</td>\n",
       "      <td>5.0</td>\n",
       "      <td>41.0</td>\n",
       "      <td>1250.0</td>\n",
       "      <td>164141591</td>\n",
       "      <td>20200701.0</td>\n",
       "      <td>2020-07-02</td>\n",
       "      <td>2020-07-01</td>\n",
       "      <td>3.413291</td>\n",
       "      <td>17.223381</td>\n",
       "      <td>-0.162519</td>\n",
       "      <td>6.398595</td>\n",
       "      <td>-1</td>\n",
       "      <td>2</td>\n",
       "      <td>7</td>\n",
       "      <td>2020</td>\n",
       "    </tr>\n",
       "    <tr>\n",
       "      <th>16107</th>\n",
       "      <td>20200702.0</td>\n",
       "      <td>25.0</td>\n",
       "      <td>1</td>\n",
       "      <td>5.0</td>\n",
       "      <td>41.0</td>\n",
       "      <td>1240.0</td>\n",
       "      <td>164141591</td>\n",
       "      <td>20200701.0</td>\n",
       "      <td>2020-07-02</td>\n",
       "      <td>2020-07-01</td>\n",
       "      <td>6.008043</td>\n",
       "      <td>17.223381</td>\n",
       "      <td>-0.342490</td>\n",
       "      <td>6.408529</td>\n",
       "      <td>-1</td>\n",
       "      <td>2</td>\n",
       "      <td>7</td>\n",
       "      <td>2020</td>\n",
       "    </tr>\n",
       "  </tbody>\n",
       "</table>\n",
       "</div>"
      ],
      "text/plain": [
       "        item_date  country  status  item type  application   width  \\\n",
       "16103  20200702.0     25.0       1        5.0         41.0  1220.0   \n",
       "16104  20200702.0     25.0       1        5.0         41.0  1500.0   \n",
       "16105  20200702.0     25.0       1        5.0         41.0  1250.0   \n",
       "16106  20200702.0     25.0       1        5.0         41.0  1250.0   \n",
       "16107  20200702.0     25.0       1        5.0         41.0  1240.0   \n",
       "\n",
       "       product_ref  delivery date item_date_1 delivery_date_1  \\\n",
       "16103    164141591     20200701.0  2020-07-02      2020-07-01   \n",
       "16104    164141591     20200701.0  2020-07-02      2020-07-01   \n",
       "16105    164141591     20200701.0  2020-07-02      2020-07-01   \n",
       "16106    164141591     20200701.0  2020-07-02      2020-07-01   \n",
       "16107    164141591     20200701.0  2020-07-02      2020-07-01   \n",
       "\n",
       "       quantity_tons_log  customer_log  thickness_log  selling_price_log  \\\n",
       "16103           4.629691     17.223381      -0.040822           6.381816   \n",
       "16104           5.337954     17.223381      -0.051293           6.378426   \n",
       "16105           1.443523     17.223381      -0.342490           6.428105   \n",
       "16106           3.413291     17.223381      -0.162519           6.398595   \n",
       "16107           6.008043     17.223381      -0.342490           6.408529   \n",
       "\n",
       "       date_differ  item_date_day  item_date_month  item_date_year  \n",
       "16103           -1              2                7            2020  \n",
       "16104           -1              2                7            2020  \n",
       "16105           -1              2                7            2020  \n",
       "16106           -1              2                7            2020  \n",
       "16107           -1              2                7            2020  "
      ]
     },
     "execution_count": 230,
     "metadata": {},
     "output_type": "execute_result"
    }
   ],
   "source": [
    "df4_nv.tail()\n"
   ]
  },
  {
   "cell_type": "code",
   "execution_count": 231,
   "metadata": {},
   "outputs": [],
   "source": [
    "# now we want to create the model for delivery date prediction\n",
    "# importing the model\n",
    "from sklearn.model_selection import train_test_split\n",
    "from sklearn.metrics import r2_score,mean_squared_error,mean_absolute_error\n",
    "from sklearn.tree import DecisionTreeRegressor\n",
    "from sklearn.ensemble import RandomForestRegressor\n",
    "from sklearn.ensemble import AdaBoostRegressor\n",
    "from sklearn.ensemble import ExtraTreesRegressor\n",
    "from sklearn.ensemble import GradientBoostingRegressor\n",
    "from xgboost import XGBRegressor"
   ]
  },
  {
   "cell_type": "code",
   "execution_count": 232,
   "metadata": {},
   "outputs": [
    {
     "data": {
      "text/plain": [
       "Index(['item_date', 'country', 'status', 'item type', 'application', 'width',\n",
       "       'product_ref', 'delivery date', 'item_date_1', 'delivery_date_1',\n",
       "       'quantity_tons_log', 'customer_log', 'thickness_log',\n",
       "       'selling_price_log', 'date_differ', 'item_date_day', 'item_date_month',\n",
       "       'item_date_year'],\n",
       "      dtype='object')"
      ]
     },
     "execution_count": 232,
     "metadata": {},
     "output_type": "execute_result"
    }
   ],
   "source": [
    "df4_pv.columns\n"
   ]
  },
  {
   "cell_type": "code",
   "execution_count": 233,
   "metadata": {},
   "outputs": [],
   "source": [
    "def accuracy_date_prediction(df, algorithm):\n",
    "  x= df.drop(columns=[\"item_date_1\", \"delivery_date_1\", \"date_differ\"])\n",
    "  y= df[\"date_differ\"]\n",
    "\n",
    "\n",
    " #train test splitting\n",
    "  x_train, x_test, y_train, y_test= train_test_split(x,y, test_size= 0.2, random_state=42)\n",
    "\n",
    "\n",
    "  model= algorithm().fit(x_train,y_train)\n",
    "  y_pred=model.predict(x_test)\n",
    "\n",
    "  #checking the accuracy score\n",
    "  mse= mean_squared_error(y_test, y_pred)\n",
    "  rmse= np.sqrt(mse)\n",
    "  mae= mean_absolute_error(y_test,y_pred)\n",
    "  r2= r2_score(y_test, y_pred)\n",
    "  \n",
    "  print(\"Mean Squared Error (MSE):\", mse)\n",
    "  print(\"Root Mean Squared Error (RMSE):\", rmse)\n",
    "  print(\"Mean Absolute Error (MAE):\", mae)\n",
    "  print(\"R-squared (R2) Score:\", r2)\n",
    "\n",
    "\n",
    "\n",
    "  metrics={\"R2_score\":r2,\n",
    "           \"Mean_squared_error\":mse,\n",
    "           \"Root_mean_squared_error\":rmse,\n",
    "           \"Mean_absolute_error\":mae,\n",
    "           }\n",
    "  return metrics"
   ]
  },
  {
   "cell_type": "code",
   "execution_count": 234,
   "metadata": {},
   "outputs": [
    {
     "name": "stdout",
     "output_type": "stream",
     "text": [
      "Mean Squared Error (MSE): 4.865128499380908\n",
      "Root Mean Squared Error (RMSE): 2.205703629090025\n",
      "Mean Absolute Error (MAE): 0.01633799414127382\n",
      "R-squared (R2) Score: 0.9968642174572448\n",
      "{'R2_score': 0.9968642174572448, 'Mean_squared_error': 4.865128499380908, 'Root_mean_squared_error': 2.205703629090025, 'Mean_absolute_error': 0.01633799414127382}\n"
     ]
    }
   ],
   "source": [
    "print(accuracy_date_prediction(df4_pv,DecisionTreeRegressor))\n"
   ]
  },
  {
   "cell_type": "code",
   "execution_count": 235,
   "metadata": {},
   "outputs": [
    {
     "name": "stdout",
     "output_type": "stream",
     "text": [
      "Mean Squared Error (MSE): 4.377897568930632\n",
      "Root Mean Squared Error (RMSE): 2.092342603143814\n",
      "Mean Absolute Error (MAE): 0.017405248693866466\n",
      "R-squared (R2) Score: 0.9971782585449964\n",
      "{'R2_score': 0.9971782585449964, 'Mean_squared_error': 4.377897568930632, 'Root_mean_squared_error': 2.092342603143814, 'Mean_absolute_error': 0.017405248693866466}\n"
     ]
    }
   ],
   "source": [
    "print(accuracy_date_prediction(df4_pv,RandomForestRegressor))\n"
   ]
  },
  {
   "cell_type": "code",
   "execution_count": 236,
   "metadata": {},
   "outputs": [
    {
     "name": "stdout",
     "output_type": "stream",
     "text": [
      "Mean Squared Error (MSE): 1.2079825778395197\n",
      "Root Mean Squared Error (RMSE): 1.0990826073774072\n",
      "Mean Absolute Error (MAE): 0.016812430163379976\n",
      "R-squared (R2) Score: 0.9992214037758667\n",
      "{'R2_score': 0.9992214037758667, 'Mean_squared_error': 1.2079825778395197, 'Root_mean_squared_error': 1.0990826073774072, 'Mean_absolute_error': 0.016812430163379976}\n"
     ]
    }
   ],
   "source": [
    "print(accuracy_date_prediction(df4_pv,ExtraTreesRegressor))\n"
   ]
  },
  {
   "cell_type": "code",
   "execution_count": 237,
   "metadata": {},
   "outputs": [
    {
     "name": "stdout",
     "output_type": "stream",
     "text": [
      "Mean Squared Error (MSE): 18.779559880583225\n",
      "Root Mean Squared Error (RMSE): 4.33353895570159\n",
      "Mean Absolute Error (MAE): 2.9479455992502714\n",
      "R-squared (R2) Score: 0.9878957737618542\n",
      "{'R2_score': 0.9878957737618542, 'Mean_squared_error': 18.779559880583225, 'Root_mean_squared_error': 4.33353895570159, 'Mean_absolute_error': 2.9479455992502714}\n"
     ]
    }
   ],
   "source": [
    "print(accuracy_date_prediction(df4_pv,GradientBoostingRegressor))\n"
   ]
  },
  {
   "cell_type": "code",
   "execution_count": 238,
   "metadata": {},
   "outputs": [
    {
     "name": "stdout",
     "output_type": "stream",
     "text": [
      "Mean Squared Error (MSE): 394.22827775008267\n",
      "Root Mean Squared Error (RMSE): 19.855182642073142\n",
      "Mean Absolute Error (MAE): 15.997600276888381\n",
      "R-squared (R2) Score: 0.7459030832615354\n",
      "{'R2_score': 0.7459030832615354, 'Mean_squared_error': 394.22827775008267, 'Root_mean_squared_error': 19.855182642073142, 'Mean_absolute_error': 15.997600276888381}\n"
     ]
    }
   ],
   "source": [
    "print(accuracy_date_prediction(df4_pv,AdaBoostRegressor))\n"
   ]
  },
  {
   "cell_type": "code",
   "execution_count": 239,
   "metadata": {},
   "outputs": [
    {
     "name": "stdout",
     "output_type": "stream",
     "text": [
      "Mean Squared Error (MSE): 1.5098560346641128\n",
      "Root Mean Squared Error (RMSE): 1.228761992683739\n",
      "Mean Absolute Error (MAE): 0.19897437494128226\n",
      "R-squared (R2) Score: 0.9990268349647522\n",
      "{'R2_score': 0.9990268349647522, 'Mean_squared_error': 1.5098560346641128, 'Root_mean_squared_error': 1.228761992683739, 'Mean_absolute_error': 0.19897437494128226}\n"
     ]
    }
   ],
   "source": [
    "print(accuracy_date_prediction(df4_pv,XGBRegressor))\n"
   ]
  },
  {
   "cell_type": "markdown",
   "metadata": {},
   "source": [
    "Random Forest algorithm is low bias and reduce overfitting compared to others."
   ]
  },
  {
   "cell_type": "code",
   "execution_count": 240,
   "metadata": {},
   "outputs": [],
   "source": [
    "def RandomForest(train_df, test_df):\n",
    "\n",
    "  x= train_df.drop(columns=[\"item_date_1\", \"delivery_date_1\", \"date_differ\"])\n",
    "  y= train_df[\"date_differ\"]\n",
    "\n",
    "  #train test splitting\n",
    "  x_train, x_test, y_train, y_test= train_test_split(x,y, test_size= 0.2, random_state=42)\n",
    "  model= RandomForestRegressor().fit(x_train, y_train)\n",
    "\n",
    "  data= test_df.drop(columns=[\"item_date_1\", \"delivery_date_1\", \"date_differ\"])\n",
    "\n",
    "  y_pred=model.predict(data)\n",
    "\n",
    "  return y_pred\n",
    "\n",
    "# Model for the RandomForest"
   ]
  },
  {
   "cell_type": "code",
   "execution_count": 241,
   "metadata": {},
   "outputs": [],
   "source": [
    "date_difference= RandomForest(df4_pv,df4_nv)\n"
   ]
  },
  {
   "cell_type": "code",
   "execution_count": 242,
   "metadata": {},
   "outputs": [
    {
     "data": {
      "text/plain": [
       "array([16.37, 16.34,  0.  , ..., 30.  , 30.  , 30.  ])"
      ]
     },
     "execution_count": 242,
     "metadata": {},
     "output_type": "execute_result"
    }
   ],
   "source": [
    "date_difference\n"
   ]
  },
  {
   "cell_type": "code",
   "execution_count": 243,
   "metadata": {},
   "outputs": [],
   "source": [
    "# changing the \"date_differ\" datatype float into int\n",
    "date_difference_1= []\n",
    "for i in date_difference:\n",
    "  dd= int(round(i,0))\n",
    "  date_difference_1.append(dd)"
   ]
  },
  {
   "cell_type": "code",
   "execution_count": 244,
   "metadata": {},
   "outputs": [],
   "source": [
    "df4_nv[\"date_differ\"]= pd.DataFrame(date_difference_1)\n"
   ]
  },
  {
   "cell_type": "code",
   "execution_count": 245,
   "metadata": {},
   "outputs": [
    {
     "data": {
      "text/plain": [
       "item_date            0\n",
       "country              0\n",
       "status               0\n",
       "item type            0\n",
       "application          0\n",
       "width                0\n",
       "product_ref          0\n",
       "delivery date        0\n",
       "item_date_1          0\n",
       "delivery_date_1      0\n",
       "quantity_tons_log    0\n",
       "customer_log         0\n",
       "thickness_log        0\n",
       "selling_price_log    0\n",
       "date_differ          0\n",
       "item_date_day        0\n",
       "item_date_month      0\n",
       "item_date_year       0\n",
       "dtype: int64"
      ]
     },
     "execution_count": 245,
     "metadata": {},
     "output_type": "execute_result"
    }
   ],
   "source": [
    "df4_nv.isnull().sum()\n"
   ]
  },
  {
   "cell_type": "code",
   "execution_count": 246,
   "metadata": {},
   "outputs": [],
   "source": [
    "#find the delivery date using \"item_date_1\" and \"date_differ\"\n",
    "\n",
    "def find_delivery_date(item_date, date_differ):\n",
    "  date= item_date + pd.to_timedelta(date_differ,unit= \"D\")\n",
    "  return date"
   ]
  },
  {
   "cell_type": "code",
   "execution_count": 247,
   "metadata": {},
   "outputs": [],
   "source": [
    "df4_nv[\"delivery_date_1\"]= find_delivery_date(df4_nv[\"item_date_1\"],df4_nv[\"date_differ\"])\n"
   ]
  },
  {
   "cell_type": "code",
   "execution_count": 248,
   "metadata": {},
   "outputs": [],
   "source": [
    "# Concadinating the two dataframes(df4_pv,df4_nv) based on the rows\n",
    "df_final=pd.concat([df4_pv,df4_nv],axis=0,ignore_index=True)     "
   ]
  },
  {
   "cell_type": "code",
   "execution_count": 249,
   "metadata": {},
   "outputs": [
    {
     "data": {
      "text/html": [
       "<div>\n",
       "<style scoped>\n",
       "    .dataframe tbody tr th:only-of-type {\n",
       "        vertical-align: middle;\n",
       "    }\n",
       "\n",
       "    .dataframe tbody tr th {\n",
       "        vertical-align: top;\n",
       "    }\n",
       "\n",
       "    .dataframe thead th {\n",
       "        text-align: right;\n",
       "    }\n",
       "</style>\n",
       "<table border=\"1\" class=\"dataframe\">\n",
       "  <thead>\n",
       "    <tr style=\"text-align: right;\">\n",
       "      <th></th>\n",
       "      <th>item_date</th>\n",
       "      <th>country</th>\n",
       "      <th>status</th>\n",
       "      <th>item type</th>\n",
       "      <th>application</th>\n",
       "      <th>width</th>\n",
       "      <th>product_ref</th>\n",
       "      <th>delivery date</th>\n",
       "      <th>item_date_1</th>\n",
       "      <th>delivery_date_1</th>\n",
       "      <th>quantity_tons_log</th>\n",
       "      <th>customer_log</th>\n",
       "      <th>thickness_log</th>\n",
       "      <th>selling_price_log</th>\n",
       "      <th>date_differ</th>\n",
       "      <th>item_date_day</th>\n",
       "      <th>item_date_month</th>\n",
       "      <th>item_date_year</th>\n",
       "    </tr>\n",
       "  </thead>\n",
       "  <tbody>\n",
       "    <tr>\n",
       "      <th>181668</th>\n",
       "      <td>20200702.0</td>\n",
       "      <td>25.0</td>\n",
       "      <td>1</td>\n",
       "      <td>5.0</td>\n",
       "      <td>41.0</td>\n",
       "      <td>1220.0</td>\n",
       "      <td>164141591</td>\n",
       "      <td>20200701.0</td>\n",
       "      <td>2020-07-02</td>\n",
       "      <td>2020-08-01</td>\n",
       "      <td>4.629691</td>\n",
       "      <td>17.223381</td>\n",
       "      <td>-0.040822</td>\n",
       "      <td>6.381816</td>\n",
       "      <td>30</td>\n",
       "      <td>2</td>\n",
       "      <td>7</td>\n",
       "      <td>2020</td>\n",
       "    </tr>\n",
       "    <tr>\n",
       "      <th>181669</th>\n",
       "      <td>20200702.0</td>\n",
       "      <td>25.0</td>\n",
       "      <td>1</td>\n",
       "      <td>5.0</td>\n",
       "      <td>41.0</td>\n",
       "      <td>1500.0</td>\n",
       "      <td>164141591</td>\n",
       "      <td>20200701.0</td>\n",
       "      <td>2020-07-02</td>\n",
       "      <td>2020-08-01</td>\n",
       "      <td>5.337954</td>\n",
       "      <td>17.223381</td>\n",
       "      <td>-0.051293</td>\n",
       "      <td>6.378426</td>\n",
       "      <td>30</td>\n",
       "      <td>2</td>\n",
       "      <td>7</td>\n",
       "      <td>2020</td>\n",
       "    </tr>\n",
       "    <tr>\n",
       "      <th>181670</th>\n",
       "      <td>20200702.0</td>\n",
       "      <td>25.0</td>\n",
       "      <td>1</td>\n",
       "      <td>5.0</td>\n",
       "      <td>41.0</td>\n",
       "      <td>1250.0</td>\n",
       "      <td>164141591</td>\n",
       "      <td>20200701.0</td>\n",
       "      <td>2020-07-02</td>\n",
       "      <td>2020-08-01</td>\n",
       "      <td>1.443523</td>\n",
       "      <td>17.223381</td>\n",
       "      <td>-0.342490</td>\n",
       "      <td>6.428105</td>\n",
       "      <td>30</td>\n",
       "      <td>2</td>\n",
       "      <td>7</td>\n",
       "      <td>2020</td>\n",
       "    </tr>\n",
       "    <tr>\n",
       "      <th>181671</th>\n",
       "      <td>20200702.0</td>\n",
       "      <td>25.0</td>\n",
       "      <td>1</td>\n",
       "      <td>5.0</td>\n",
       "      <td>41.0</td>\n",
       "      <td>1250.0</td>\n",
       "      <td>164141591</td>\n",
       "      <td>20200701.0</td>\n",
       "      <td>2020-07-02</td>\n",
       "      <td>2020-08-01</td>\n",
       "      <td>3.413291</td>\n",
       "      <td>17.223381</td>\n",
       "      <td>-0.162519</td>\n",
       "      <td>6.398595</td>\n",
       "      <td>30</td>\n",
       "      <td>2</td>\n",
       "      <td>7</td>\n",
       "      <td>2020</td>\n",
       "    </tr>\n",
       "    <tr>\n",
       "      <th>181672</th>\n",
       "      <td>20200702.0</td>\n",
       "      <td>25.0</td>\n",
       "      <td>1</td>\n",
       "      <td>5.0</td>\n",
       "      <td>41.0</td>\n",
       "      <td>1240.0</td>\n",
       "      <td>164141591</td>\n",
       "      <td>20200701.0</td>\n",
       "      <td>2020-07-02</td>\n",
       "      <td>2020-08-01</td>\n",
       "      <td>6.008043</td>\n",
       "      <td>17.223381</td>\n",
       "      <td>-0.342490</td>\n",
       "      <td>6.408529</td>\n",
       "      <td>30</td>\n",
       "      <td>2</td>\n",
       "      <td>7</td>\n",
       "      <td>2020</td>\n",
       "    </tr>\n",
       "  </tbody>\n",
       "</table>\n",
       "</div>"
      ],
      "text/plain": [
       "         item_date  country  status  item type  application   width  \\\n",
       "181668  20200702.0     25.0       1        5.0         41.0  1220.0   \n",
       "181669  20200702.0     25.0       1        5.0         41.0  1500.0   \n",
       "181670  20200702.0     25.0       1        5.0         41.0  1250.0   \n",
       "181671  20200702.0     25.0       1        5.0         41.0  1250.0   \n",
       "181672  20200702.0     25.0       1        5.0         41.0  1240.0   \n",
       "\n",
       "        product_ref  delivery date item_date_1 delivery_date_1  \\\n",
       "181668    164141591     20200701.0  2020-07-02      2020-08-01   \n",
       "181669    164141591     20200701.0  2020-07-02      2020-08-01   \n",
       "181670    164141591     20200701.0  2020-07-02      2020-08-01   \n",
       "181671    164141591     20200701.0  2020-07-02      2020-08-01   \n",
       "181672    164141591     20200701.0  2020-07-02      2020-08-01   \n",
       "\n",
       "        quantity_tons_log  customer_log  thickness_log  selling_price_log  \\\n",
       "181668           4.629691     17.223381      -0.040822           6.381816   \n",
       "181669           5.337954     17.223381      -0.051293           6.378426   \n",
       "181670           1.443523     17.223381      -0.342490           6.428105   \n",
       "181671           3.413291     17.223381      -0.162519           6.398595   \n",
       "181672           6.008043     17.223381      -0.342490           6.408529   \n",
       "\n",
       "        date_differ  item_date_day  item_date_month  item_date_year  \n",
       "181668           30              2                7            2020  \n",
       "181669           30              2                7            2020  \n",
       "181670           30              2                7            2020  \n",
       "181671           30              2                7            2020  \n",
       "181672           30              2                7            2020  "
      ]
     },
     "execution_count": 249,
     "metadata": {},
     "output_type": "execute_result"
    }
   ],
   "source": [
    "df_final.tail()\n"
   ]
  },
  {
   "cell_type": "code",
   "execution_count": 250,
   "metadata": {},
   "outputs": [],
   "source": [
    "# Now we create the three new columns using the \"delivery_date_1\"\n",
    "df_final['delivery_date_day']= df_final[\"delivery_date_1\"].dt.day\n",
    "df_final['delivery_date_month']= df_final[\"delivery_date_1\"].dt.month\n",
    "df_final['delivery_date_year']= df_final[\"delivery_date_1\"].dt.year"
   ]
  },
  {
   "cell_type": "code",
   "execution_count": 251,
   "metadata": {},
   "outputs": [
    {
     "data": {
      "text/html": [
       "<div>\n",
       "<style scoped>\n",
       "    .dataframe tbody tr th:only-of-type {\n",
       "        vertical-align: middle;\n",
       "    }\n",
       "\n",
       "    .dataframe tbody tr th {\n",
       "        vertical-align: top;\n",
       "    }\n",
       "\n",
       "    .dataframe thead th {\n",
       "        text-align: right;\n",
       "    }\n",
       "</style>\n",
       "<table border=\"1\" class=\"dataframe\">\n",
       "  <thead>\n",
       "    <tr style=\"text-align: right;\">\n",
       "      <th></th>\n",
       "      <th>item_date</th>\n",
       "      <th>country</th>\n",
       "      <th>status</th>\n",
       "      <th>item type</th>\n",
       "      <th>application</th>\n",
       "      <th>width</th>\n",
       "      <th>product_ref</th>\n",
       "      <th>delivery date</th>\n",
       "      <th>item_date_1</th>\n",
       "      <th>delivery_date_1</th>\n",
       "      <th>quantity_tons_log</th>\n",
       "      <th>customer_log</th>\n",
       "      <th>thickness_log</th>\n",
       "      <th>selling_price_log</th>\n",
       "      <th>date_differ</th>\n",
       "      <th>item_date_day</th>\n",
       "      <th>item_date_month</th>\n",
       "      <th>item_date_year</th>\n",
       "      <th>delivery_date_day</th>\n",
       "      <th>delivery_date_month</th>\n",
       "      <th>delivery_date_year</th>\n",
       "    </tr>\n",
       "  </thead>\n",
       "  <tbody>\n",
       "    <tr>\n",
       "      <th>0</th>\n",
       "      <td>20210401.0</td>\n",
       "      <td>28.0</td>\n",
       "      <td>1</td>\n",
       "      <td>5.0</td>\n",
       "      <td>10.0</td>\n",
       "      <td>1500.0</td>\n",
       "      <td>1670798778</td>\n",
       "      <td>20210701.0</td>\n",
       "      <td>2021-04-01</td>\n",
       "      <td>2021-07-01</td>\n",
       "      <td>3.991779</td>\n",
       "      <td>17.221905</td>\n",
       "      <td>0.693147</td>\n",
       "      <td>6.749931</td>\n",
       "      <td>91</td>\n",
       "      <td>1</td>\n",
       "      <td>4</td>\n",
       "      <td>2021</td>\n",
       "      <td>1</td>\n",
       "      <td>7</td>\n",
       "      <td>2021</td>\n",
       "    </tr>\n",
       "    <tr>\n",
       "      <th>1</th>\n",
       "      <td>20210401.0</td>\n",
       "      <td>25.0</td>\n",
       "      <td>1</td>\n",
       "      <td>5.0</td>\n",
       "      <td>41.0</td>\n",
       "      <td>1210.0</td>\n",
       "      <td>1668701718</td>\n",
       "      <td>20210401.0</td>\n",
       "      <td>2021-04-01</td>\n",
       "      <td>2021-04-01</td>\n",
       "      <td>6.643822</td>\n",
       "      <td>17.223450</td>\n",
       "      <td>-0.223144</td>\n",
       "      <td>6.953684</td>\n",
       "      <td>0</td>\n",
       "      <td>1</td>\n",
       "      <td>4</td>\n",
       "      <td>2021</td>\n",
       "      <td>1</td>\n",
       "      <td>4</td>\n",
       "      <td>2021</td>\n",
       "    </tr>\n",
       "  </tbody>\n",
       "</table>\n",
       "</div>"
      ],
      "text/plain": [
       "    item_date  country  status  item type  application   width  product_ref  \\\n",
       "0  20210401.0     28.0       1        5.0         10.0  1500.0   1670798778   \n",
       "1  20210401.0     25.0       1        5.0         41.0  1210.0   1668701718   \n",
       "\n",
       "   delivery date item_date_1 delivery_date_1  quantity_tons_log  customer_log  \\\n",
       "0     20210701.0  2021-04-01      2021-07-01           3.991779     17.221905   \n",
       "1     20210401.0  2021-04-01      2021-04-01           6.643822     17.223450   \n",
       "\n",
       "   thickness_log  selling_price_log  date_differ  item_date_day  \\\n",
       "0       0.693147           6.749931           91              1   \n",
       "1      -0.223144           6.953684            0              1   \n",
       "\n",
       "   item_date_month  item_date_year  delivery_date_day  delivery_date_month  \\\n",
       "0                4            2021                  1                    7   \n",
       "1                4            2021                  1                    4   \n",
       "\n",
       "   delivery_date_year  \n",
       "0                2021  \n",
       "1                2021  "
      ]
     },
     "execution_count": 251,
     "metadata": {},
     "output_type": "execute_result"
    }
   ],
   "source": [
    "df_final.head(2)\n"
   ]
  },
  {
   "cell_type": "code",
   "execution_count": 252,
   "metadata": {},
   "outputs": [
    {
     "data": {
      "text/plain": [
       "Index(['item_date', 'country', 'status', 'item type', 'application', 'width',\n",
       "       'product_ref', 'delivery date', 'item_date_1', 'delivery_date_1',\n",
       "       'quantity_tons_log', 'customer_log', 'thickness_log',\n",
       "       'selling_price_log', 'date_differ', 'item_date_day', 'item_date_month',\n",
       "       'item_date_year', 'delivery_date_day', 'delivery_date_month',\n",
       "       'delivery_date_year'],\n",
       "      dtype='object')"
      ]
     },
     "execution_count": 252,
     "metadata": {},
     "output_type": "execute_result"
    }
   ],
   "source": [
    "df_final.columns\n"
   ]
  },
  {
   "cell_type": "code",
   "execution_count": 253,
   "metadata": {},
   "outputs": [],
   "source": [
    "# Droping the unwanted columns\n",
    "df_final.drop(columns=[\"item_date\",\"delivery date\",\"item_date_1\",\"delivery_date_1\",\"date_differ\"],inplace=True)     "
   ]
  },
  {
   "cell_type": "code",
   "execution_count": 254,
   "metadata": {},
   "outputs": [
    {
     "data": {
      "text/plain": [
       "Index(['country', 'status', 'item type', 'application', 'width', 'product_ref',\n",
       "       'quantity_tons_log', 'customer_log', 'thickness_log',\n",
       "       'selling_price_log', 'item_date_day', 'item_date_month',\n",
       "       'item_date_year', 'delivery_date_day', 'delivery_date_month',\n",
       "       'delivery_date_year'],\n",
       "      dtype='object')"
      ]
     },
     "execution_count": 254,
     "metadata": {},
     "output_type": "execute_result"
    }
   ],
   "source": [
    "df_final.columns\n"
   ]
  },
  {
   "cell_type": "code",
   "execution_count": 255,
   "metadata": {},
   "outputs": [],
   "source": [
    "#Saveing the dataframe\n",
    "df_final.to_csv(\"Industrial_Copper_Colab.csv\",index= False)"
   ]
  },
  {
   "cell_type": "code",
   "execution_count": 256,
   "metadata": {},
   "outputs": [],
   "source": [
    "#Reading the saved \"csv\" file\n",
    "df_final= pd.read_csv(\"C:\\Shubh Projects DS\\Industrial_Copper_Colab.csv\")"
   ]
  },
  {
   "cell_type": "code",
   "execution_count": 257,
   "metadata": {},
   "outputs": [
    {
     "data": {
      "text/html": [
       "<div>\n",
       "<style scoped>\n",
       "    .dataframe tbody tr th:only-of-type {\n",
       "        vertical-align: middle;\n",
       "    }\n",
       "\n",
       "    .dataframe tbody tr th {\n",
       "        vertical-align: top;\n",
       "    }\n",
       "\n",
       "    .dataframe thead th {\n",
       "        text-align: right;\n",
       "    }\n",
       "</style>\n",
       "<table border=\"1\" class=\"dataframe\">\n",
       "  <thead>\n",
       "    <tr style=\"text-align: right;\">\n",
       "      <th></th>\n",
       "      <th>country</th>\n",
       "      <th>status</th>\n",
       "      <th>item type</th>\n",
       "      <th>application</th>\n",
       "      <th>width</th>\n",
       "      <th>product_ref</th>\n",
       "      <th>quantity_tons_log</th>\n",
       "      <th>customer_log</th>\n",
       "      <th>thickness_log</th>\n",
       "      <th>selling_price_log</th>\n",
       "      <th>item_date_day</th>\n",
       "      <th>item_date_month</th>\n",
       "      <th>item_date_year</th>\n",
       "      <th>delivery_date_day</th>\n",
       "      <th>delivery_date_month</th>\n",
       "      <th>delivery_date_year</th>\n",
       "    </tr>\n",
       "  </thead>\n",
       "  <tbody>\n",
       "    <tr>\n",
       "      <th>0</th>\n",
       "      <td>28.0</td>\n",
       "      <td>1</td>\n",
       "      <td>5.0</td>\n",
       "      <td>10.0</td>\n",
       "      <td>1500.0</td>\n",
       "      <td>1670798778</td>\n",
       "      <td>3.991779</td>\n",
       "      <td>17.221905</td>\n",
       "      <td>0.693147</td>\n",
       "      <td>6.749931</td>\n",
       "      <td>1</td>\n",
       "      <td>4</td>\n",
       "      <td>2021</td>\n",
       "      <td>1</td>\n",
       "      <td>7</td>\n",
       "      <td>2021</td>\n",
       "    </tr>\n",
       "    <tr>\n",
       "      <th>1</th>\n",
       "      <td>25.0</td>\n",
       "      <td>1</td>\n",
       "      <td>5.0</td>\n",
       "      <td>41.0</td>\n",
       "      <td>1210.0</td>\n",
       "      <td>1668701718</td>\n",
       "      <td>6.643822</td>\n",
       "      <td>17.223450</td>\n",
       "      <td>-0.223144</td>\n",
       "      <td>6.953684</td>\n",
       "      <td>1</td>\n",
       "      <td>4</td>\n",
       "      <td>2021</td>\n",
       "      <td>1</td>\n",
       "      <td>4</td>\n",
       "      <td>2021</td>\n",
       "    </tr>\n",
       "    <tr>\n",
       "      <th>2</th>\n",
       "      <td>25.0</td>\n",
       "      <td>1</td>\n",
       "      <td>5.0</td>\n",
       "      <td>41.0</td>\n",
       "      <td>1265.0</td>\n",
       "      <td>1668701718</td>\n",
       "      <td>5.419608</td>\n",
       "      <td>17.223450</td>\n",
       "      <td>0.405465</td>\n",
       "      <td>6.890609</td>\n",
       "      <td>1</td>\n",
       "      <td>4</td>\n",
       "      <td>2021</td>\n",
       "      <td>1</td>\n",
       "      <td>4</td>\n",
       "      <td>2021</td>\n",
       "    </tr>\n",
       "    <tr>\n",
       "      <th>3</th>\n",
       "      <td>30.0</td>\n",
       "      <td>2</td>\n",
       "      <td>5.0</td>\n",
       "      <td>41.0</td>\n",
       "      <td>1125.0</td>\n",
       "      <td>611993</td>\n",
       "      <td>1.259203</td>\n",
       "      <td>17.223667</td>\n",
       "      <td>-0.967584</td>\n",
       "      <td>2.890372</td>\n",
       "      <td>1</td>\n",
       "      <td>4</td>\n",
       "      <td>2021</td>\n",
       "      <td>1</td>\n",
       "      <td>7</td>\n",
       "      <td>2021</td>\n",
       "    </tr>\n",
       "    <tr>\n",
       "      <th>4</th>\n",
       "      <td>38.0</td>\n",
       "      <td>1</td>\n",
       "      <td>3.0</td>\n",
       "      <td>10.0</td>\n",
       "      <td>1275.0</td>\n",
       "      <td>1668701376</td>\n",
       "      <td>4.235147</td>\n",
       "      <td>17.228025</td>\n",
       "      <td>-0.510826</td>\n",
       "      <td>7.217443</td>\n",
       "      <td>1</td>\n",
       "      <td>4</td>\n",
       "      <td>2021</td>\n",
       "      <td>1</td>\n",
       "      <td>7</td>\n",
       "      <td>2021</td>\n",
       "    </tr>\n",
       "    <tr>\n",
       "      <th>5</th>\n",
       "      <td>25.0</td>\n",
       "      <td>1</td>\n",
       "      <td>5.0</td>\n",
       "      <td>41.0</td>\n",
       "      <td>1165.0</td>\n",
       "      <td>1668701718</td>\n",
       "      <td>6.446714</td>\n",
       "      <td>17.223450</td>\n",
       "      <td>0.405465</td>\n",
       "      <td>6.890609</td>\n",
       "      <td>1</td>\n",
       "      <td>4</td>\n",
       "      <td>2021</td>\n",
       "      <td>1</td>\n",
       "      <td>4</td>\n",
       "      <td>2021</td>\n",
       "    </tr>\n",
       "    <tr>\n",
       "      <th>6</th>\n",
       "      <td>30.0</td>\n",
       "      <td>2</td>\n",
       "      <td>5.0</td>\n",
       "      <td>41.0</td>\n",
       "      <td>1125.0</td>\n",
       "      <td>611993</td>\n",
       "      <td>2.216566</td>\n",
       "      <td>17.223667</td>\n",
       "      <td>-0.967584</td>\n",
       "      <td>2.833213</td>\n",
       "      <td>1</td>\n",
       "      <td>4</td>\n",
       "      <td>2021</td>\n",
       "      <td>1</td>\n",
       "      <td>7</td>\n",
       "      <td>2021</td>\n",
       "    </tr>\n",
       "    <tr>\n",
       "      <th>7</th>\n",
       "      <td>78.0</td>\n",
       "      <td>1</td>\n",
       "      <td>5.0</td>\n",
       "      <td>10.0</td>\n",
       "      <td>1250.0</td>\n",
       "      <td>164141591</td>\n",
       "      <td>3.314642</td>\n",
       "      <td>17.222210</td>\n",
       "      <td>-0.287682</td>\n",
       "      <td>7.001246</td>\n",
       "      <td>1</td>\n",
       "      <td>4</td>\n",
       "      <td>2021</td>\n",
       "      <td>1</td>\n",
       "      <td>7</td>\n",
       "      <td>2021</td>\n",
       "    </tr>\n",
       "    <tr>\n",
       "      <th>8</th>\n",
       "      <td>27.0</td>\n",
       "      <td>1</td>\n",
       "      <td>3.0</td>\n",
       "      <td>10.0</td>\n",
       "      <td>1010.0</td>\n",
       "      <td>628377</td>\n",
       "      <td>3.473063</td>\n",
       "      <td>17.223431</td>\n",
       "      <td>-0.510826</td>\n",
       "      <td>6.880384</td>\n",
       "      <td>1</td>\n",
       "      <td>4</td>\n",
       "      <td>2021</td>\n",
       "      <td>1</td>\n",
       "      <td>7</td>\n",
       "      <td>2021</td>\n",
       "    </tr>\n",
       "  </tbody>\n",
       "</table>\n",
       "</div>"
      ],
      "text/plain": [
       "   country  status  item type  application   width  product_ref  \\\n",
       "0     28.0       1        5.0         10.0  1500.0   1670798778   \n",
       "1     25.0       1        5.0         41.0  1210.0   1668701718   \n",
       "2     25.0       1        5.0         41.0  1265.0   1668701718   \n",
       "3     30.0       2        5.0         41.0  1125.0       611993   \n",
       "4     38.0       1        3.0         10.0  1275.0   1668701376   \n",
       "5     25.0       1        5.0         41.0  1165.0   1668701718   \n",
       "6     30.0       2        5.0         41.0  1125.0       611993   \n",
       "7     78.0       1        5.0         10.0  1250.0    164141591   \n",
       "8     27.0       1        3.0         10.0  1010.0       628377   \n",
       "\n",
       "   quantity_tons_log  customer_log  thickness_log  selling_price_log  \\\n",
       "0           3.991779     17.221905       0.693147           6.749931   \n",
       "1           6.643822     17.223450      -0.223144           6.953684   \n",
       "2           5.419608     17.223450       0.405465           6.890609   \n",
       "3           1.259203     17.223667      -0.967584           2.890372   \n",
       "4           4.235147     17.228025      -0.510826           7.217443   \n",
       "5           6.446714     17.223450       0.405465           6.890609   \n",
       "6           2.216566     17.223667      -0.967584           2.833213   \n",
       "7           3.314642     17.222210      -0.287682           7.001246   \n",
       "8           3.473063     17.223431      -0.510826           6.880384   \n",
       "\n",
       "   item_date_day  item_date_month  item_date_year  delivery_date_day  \\\n",
       "0              1                4            2021                  1   \n",
       "1              1                4            2021                  1   \n",
       "2              1                4            2021                  1   \n",
       "3              1                4            2021                  1   \n",
       "4              1                4            2021                  1   \n",
       "5              1                4            2021                  1   \n",
       "6              1                4            2021                  1   \n",
       "7              1                4            2021                  1   \n",
       "8              1                4            2021                  1   \n",
       "\n",
       "   delivery_date_month  delivery_date_year  \n",
       "0                    7                2021  \n",
       "1                    4                2021  \n",
       "2                    4                2021  \n",
       "3                    7                2021  \n",
       "4                    7                2021  \n",
       "5                    4                2021  \n",
       "6                    7                2021  \n",
       "7                    7                2021  \n",
       "8                    7                2021  "
      ]
     },
     "execution_count": 257,
     "metadata": {},
     "output_type": "execute_result"
    }
   ],
   "source": [
    "df_final.head(9)\n"
   ]
  },
  {
   "cell_type": "markdown",
   "metadata": {},
   "source": [
    "This DataFrame don't have any null values and catagorical columns\n",
    "so our dataset is ready to the ML prediction\n",
    "Classification Method - Predict (Won/Lost)"
   ]
  },
  {
   "cell_type": "code",
   "execution_count": 258,
   "metadata": {},
   "outputs": [],
   "source": [
    "#packages\n",
    "from sklearn.model_selection import train_test_split,GridSearchCV\n",
    "from sklearn.metrics import accuracy_score,auc,roc_curve,confusion_matrix,classification_report\n",
    "\n",
    "from sklearn.tree import DecisionTreeClassifier\n",
    "from sklearn.ensemble import RandomForestClassifier\n",
    "from sklearn.ensemble import ExtraTreesClassifier\n",
    "from sklearn.ensemble import AdaBoostClassifier\n",
    "from sklearn.ensemble import GradientBoostingClassifier\n",
    "from xgboost import XGBClassifier\n",
    "\n",
    "from imblearn.combine import SMOTETomek\n",
    "\n",
    "import pickle"
   ]
  },
  {
   "cell_type": "code",
   "execution_count": 259,
   "metadata": {},
   "outputs": [],
   "source": [
    "df_class= df_final.copy()\n"
   ]
  },
  {
   "cell_type": "code",
   "execution_count": 260,
   "metadata": {},
   "outputs": [],
   "source": [
    "# filter the status column only want to be a (won& loss)\n",
    "df_c= df_class[(df_class[\"status\"] == 1) | (df_class[\"status\"] == 0)]"
   ]
  },
  {
   "cell_type": "code",
   "execution_count": 261,
   "metadata": {},
   "outputs": [
    {
     "data": {
      "text/html": [
       "<div>\n",
       "<style scoped>\n",
       "    .dataframe tbody tr th:only-of-type {\n",
       "        vertical-align: middle;\n",
       "    }\n",
       "\n",
       "    .dataframe tbody tr th {\n",
       "        vertical-align: top;\n",
       "    }\n",
       "\n",
       "    .dataframe thead th {\n",
       "        text-align: right;\n",
       "    }\n",
       "</style>\n",
       "<table border=\"1\" class=\"dataframe\">\n",
       "  <thead>\n",
       "    <tr style=\"text-align: right;\">\n",
       "      <th></th>\n",
       "      <th>country</th>\n",
       "      <th>status</th>\n",
       "      <th>item type</th>\n",
       "      <th>application</th>\n",
       "      <th>width</th>\n",
       "      <th>product_ref</th>\n",
       "      <th>quantity_tons_log</th>\n",
       "      <th>customer_log</th>\n",
       "      <th>thickness_log</th>\n",
       "      <th>selling_price_log</th>\n",
       "      <th>item_date_day</th>\n",
       "      <th>item_date_month</th>\n",
       "      <th>item_date_year</th>\n",
       "      <th>delivery_date_day</th>\n",
       "      <th>delivery_date_month</th>\n",
       "      <th>delivery_date_year</th>\n",
       "    </tr>\n",
       "  </thead>\n",
       "  <tbody>\n",
       "    <tr>\n",
       "      <th>181668</th>\n",
       "      <td>25.0</td>\n",
       "      <td>1</td>\n",
       "      <td>5.0</td>\n",
       "      <td>41.0</td>\n",
       "      <td>1220.0</td>\n",
       "      <td>164141591</td>\n",
       "      <td>4.629691</td>\n",
       "      <td>17.223381</td>\n",
       "      <td>-0.040822</td>\n",
       "      <td>6.381816</td>\n",
       "      <td>2</td>\n",
       "      <td>7</td>\n",
       "      <td>2020</td>\n",
       "      <td>1</td>\n",
       "      <td>8</td>\n",
       "      <td>2020</td>\n",
       "    </tr>\n",
       "    <tr>\n",
       "      <th>181669</th>\n",
       "      <td>25.0</td>\n",
       "      <td>1</td>\n",
       "      <td>5.0</td>\n",
       "      <td>41.0</td>\n",
       "      <td>1500.0</td>\n",
       "      <td>164141591</td>\n",
       "      <td>5.337954</td>\n",
       "      <td>17.223381</td>\n",
       "      <td>-0.051293</td>\n",
       "      <td>6.378426</td>\n",
       "      <td>2</td>\n",
       "      <td>7</td>\n",
       "      <td>2020</td>\n",
       "      <td>1</td>\n",
       "      <td>8</td>\n",
       "      <td>2020</td>\n",
       "    </tr>\n",
       "    <tr>\n",
       "      <th>181670</th>\n",
       "      <td>25.0</td>\n",
       "      <td>1</td>\n",
       "      <td>5.0</td>\n",
       "      <td>41.0</td>\n",
       "      <td>1250.0</td>\n",
       "      <td>164141591</td>\n",
       "      <td>1.443523</td>\n",
       "      <td>17.223381</td>\n",
       "      <td>-0.342490</td>\n",
       "      <td>6.428105</td>\n",
       "      <td>2</td>\n",
       "      <td>7</td>\n",
       "      <td>2020</td>\n",
       "      <td>1</td>\n",
       "      <td>8</td>\n",
       "      <td>2020</td>\n",
       "    </tr>\n",
       "    <tr>\n",
       "      <th>181671</th>\n",
       "      <td>25.0</td>\n",
       "      <td>1</td>\n",
       "      <td>5.0</td>\n",
       "      <td>41.0</td>\n",
       "      <td>1250.0</td>\n",
       "      <td>164141591</td>\n",
       "      <td>3.413291</td>\n",
       "      <td>17.223381</td>\n",
       "      <td>-0.162519</td>\n",
       "      <td>6.398595</td>\n",
       "      <td>2</td>\n",
       "      <td>7</td>\n",
       "      <td>2020</td>\n",
       "      <td>1</td>\n",
       "      <td>8</td>\n",
       "      <td>2020</td>\n",
       "    </tr>\n",
       "    <tr>\n",
       "      <th>181672</th>\n",
       "      <td>25.0</td>\n",
       "      <td>1</td>\n",
       "      <td>5.0</td>\n",
       "      <td>41.0</td>\n",
       "      <td>1240.0</td>\n",
       "      <td>164141591</td>\n",
       "      <td>6.008043</td>\n",
       "      <td>17.223381</td>\n",
       "      <td>-0.342490</td>\n",
       "      <td>6.408529</td>\n",
       "      <td>2</td>\n",
       "      <td>7</td>\n",
       "      <td>2020</td>\n",
       "      <td>1</td>\n",
       "      <td>8</td>\n",
       "      <td>2020</td>\n",
       "    </tr>\n",
       "  </tbody>\n",
       "</table>\n",
       "</div>"
      ],
      "text/plain": [
       "        country  status  item type  application   width  product_ref  \\\n",
       "181668     25.0       1        5.0         41.0  1220.0    164141591   \n",
       "181669     25.0       1        5.0         41.0  1500.0    164141591   \n",
       "181670     25.0       1        5.0         41.0  1250.0    164141591   \n",
       "181671     25.0       1        5.0         41.0  1250.0    164141591   \n",
       "181672     25.0       1        5.0         41.0  1240.0    164141591   \n",
       "\n",
       "        quantity_tons_log  customer_log  thickness_log  selling_price_log  \\\n",
       "181668           4.629691     17.223381      -0.040822           6.381816   \n",
       "181669           5.337954     17.223381      -0.051293           6.378426   \n",
       "181670           1.443523     17.223381      -0.342490           6.428105   \n",
       "181671           3.413291     17.223381      -0.162519           6.398595   \n",
       "181672           6.008043     17.223381      -0.342490           6.408529   \n",
       "\n",
       "        item_date_day  item_date_month  item_date_year  delivery_date_day  \\\n",
       "181668              2                7            2020                  1   \n",
       "181669              2                7            2020                  1   \n",
       "181670              2                7            2020                  1   \n",
       "181671              2                7            2020                  1   \n",
       "181672              2                7            2020                  1   \n",
       "\n",
       "        delivery_date_month  delivery_date_year  \n",
       "181668                    8                2020  \n",
       "181669                    8                2020  \n",
       "181670                    8                2020  \n",
       "181671                    8                2020  \n",
       "181672                    8                2020  "
      ]
     },
     "execution_count": 261,
     "metadata": {},
     "output_type": "execute_result"
    }
   ],
   "source": [
    "df_c.tail()\n"
   ]
  },
  {
   "cell_type": "code",
   "execution_count": 262,
   "metadata": {},
   "outputs": [
    {
     "data": {
      "text/plain": [
       "status\n",
       "1    116012\n",
       "0     34438\n",
       "Name: count, dtype: int64"
      ]
     },
     "execution_count": 262,
     "metadata": {},
     "output_type": "execute_result"
    }
   ],
   "source": [
    "df_c[\"status\"].value_counts()\n"
   ]
  },
  {
   "cell_type": "markdown",
   "metadata": {},
   "source": [
    "This is a imbalanced data\n",
    "so we want to resampling the data by usin the \"SMOTETomek\" (Synthetic Minority Over-sampling Technique)"
   ]
  },
  {
   "cell_type": "code",
   "execution_count": 263,
   "metadata": {},
   "outputs": [
    {
     "data": {
      "text/plain": [
       "Index(['country', 'status', 'item type', 'application', 'width', 'product_ref',\n",
       "       'quantity_tons_log', 'customer_log', 'thickness_log',\n",
       "       'selling_price_log', 'item_date_day', 'item_date_month',\n",
       "       'item_date_year', 'delivery_date_day', 'delivery_date_month',\n",
       "       'delivery_date_year'],\n",
       "      dtype='object')"
      ]
     },
     "execution_count": 263,
     "metadata": {},
     "output_type": "execute_result"
    }
   ],
   "source": [
    "df_c.columns\n"
   ]
  },
  {
   "cell_type": "code",
   "execution_count": 264,
   "metadata": {},
   "outputs": [],
   "source": [
    "x= df_c.drop(columns=[\"status\"],axis=1)\n",
    "y= df_c[\"status\"]"
   ]
  },
  {
   "cell_type": "code",
   "execution_count": 265,
   "metadata": {},
   "outputs": [
    {
     "data": {
      "text/plain": [
       "((150450, 15), (150450,))"
      ]
     },
     "execution_count": 265,
     "metadata": {},
     "output_type": "execute_result"
    }
   ],
   "source": [
    "x.shape,y.shape\n"
   ]
  },
  {
   "cell_type": "code",
   "execution_count": 266,
   "metadata": {},
   "outputs": [],
   "source": [
    "x_new,y_new= SMOTETomek().fit_resample(x,y)\n"
   ]
  },
  {
   "cell_type": "code",
   "execution_count": 267,
   "metadata": {},
   "outputs": [
    {
     "data": {
      "text/plain": [
       "((230156, 15), (230156,))"
      ]
     },
     "execution_count": 267,
     "metadata": {},
     "output_type": "execute_result"
    }
   ],
   "source": [
    "x_new.shape,y_new.shape\n"
   ]
  },
  {
   "cell_type": "code",
   "execution_count": 268,
   "metadata": {},
   "outputs": [
    {
     "data": {
      "text/plain": [
       "status\n",
       "1    115078\n",
       "0    115078\n",
       "Name: count, dtype: int64"
      ]
     },
     "execution_count": 268,
     "metadata": {},
     "output_type": "execute_result"
    }
   ],
   "source": [
    "y_new.value_counts()\n"
   ]
  },
  {
   "cell_type": "markdown",
   "metadata": {},
   "source": [
    "now the data is balanced\n",
    "so, we continue the ML prediction"
   ]
  },
  {
   "cell_type": "code",
   "execution_count": 269,
   "metadata": {},
   "outputs": [],
   "source": [
    "# find the best algorithm for the classification prediction\n",
    "\n",
    "def accuracy_checking(x_data, y_data, algorithm):\n",
    "  #train test splitting\n",
    "  x_train, x_test, y_train, y_test= train_test_split(x_data, y_data, test_size= 0.2, random_state=42)\n",
    "\n",
    "  model= algorithm().fit(x_train, y_train)\n",
    "\n",
    "  y_pred_train= model.predict(x_train)\n",
    "  y_pred_test= model.predict(x_test)\n",
    "\n",
    "  #checking the accuracy_score\n",
    "  accuracy_train= accuracy_score(y_train, y_pred_train)\n",
    "  accuracy_test= accuracy_score(y_test, y_pred_test)\n",
    "\n",
    "  metrics={\"Algorithm\": algorithm.__name__,\n",
    "           \"Accuracy_Train\": accuracy_train,\n",
    "           \"Accuracy_Test\": accuracy_test}\n",
    "  return metrics"
   ]
  },
  {
   "cell_type": "code",
   "execution_count": 270,
   "metadata": {},
   "outputs": [
    {
     "name": "stdout",
     "output_type": "stream",
     "text": [
      "{'Algorithm': 'DecisionTreeClassifier', 'Accuracy_Train': 1.0, 'Accuracy_Test': 0.9513791957460951}\n"
     ]
    }
   ],
   "source": [
    "print(accuracy_checking(x,y,DecisionTreeClassifier))\n"
   ]
  },
  {
   "cell_type": "code",
   "execution_count": 271,
   "metadata": {},
   "outputs": [
    {
     "name": "stdout",
     "output_type": "stream",
     "text": [
      "{'Algorithm': 'RandomForestClassifier', 'Accuracy_Train': 1.0, 'Accuracy_Test': 0.969757394483217}\n"
     ]
    }
   ],
   "source": [
    "print(accuracy_checking(x,y,RandomForestClassifier))\n"
   ]
  },
  {
   "cell_type": "code",
   "execution_count": 272,
   "metadata": {},
   "outputs": [
    {
     "name": "stdout",
     "output_type": "stream",
     "text": [
      "{'Algorithm': 'ExtraTreesClassifier', 'Accuracy_Train': 1.0, 'Accuracy_Test': 0.9751412429378531}\n"
     ]
    }
   ],
   "source": [
    "print(accuracy_checking(x,y,ExtraTreesClassifier))\n"
   ]
  },
  {
   "cell_type": "code",
   "execution_count": 273,
   "metadata": {},
   "outputs": [
    {
     "name": "stdout",
     "output_type": "stream",
     "text": [
      "{'Algorithm': 'AdaBoostClassifier', 'Accuracy_Train': 0.8145563310069791, 'Accuracy_Test': 0.8125955466932536}\n"
     ]
    }
   ],
   "source": [
    "print(accuracy_checking(x,y,AdaBoostClassifier))\n"
   ]
  },
  {
   "cell_type": "code",
   "execution_count": 274,
   "metadata": {},
   "outputs": [
    {
     "name": "stdout",
     "output_type": "stream",
     "text": [
      "{'Algorithm': 'GradientBoostingClassifier', 'Accuracy_Train': 0.8364739115985377, 'Accuracy_Test': 0.8332668660684612}\n"
     ]
    }
   ],
   "source": [
    "print(accuracy_checking(x,y,GradientBoostingClassifier))\n"
   ]
  },
  {
   "cell_type": "code",
   "execution_count": 275,
   "metadata": {},
   "outputs": [
    {
     "name": "stdout",
     "output_type": "stream",
     "text": [
      "{'Algorithm': 'XGBClassifier', 'Accuracy_Train': 0.9451395812562313, 'Accuracy_Test': 0.9316051844466601}\n"
     ]
    }
   ],
   "source": [
    "print(accuracy_checking(x,y,XGBClassifier))\n"
   ]
  },
  {
   "cell_type": "markdown",
   "metadata": {},
   "source": [
    "accuaccuracy_checking for x_new,y_new\n"
   ]
  },
  {
   "cell_type": "code",
   "execution_count": 276,
   "metadata": {},
   "outputs": [
    {
     "name": "stdout",
     "output_type": "stream",
     "text": [
      "{'Algorithm': 'DecisionTreeClassifier', 'Accuracy_Train': 1.0, 'Accuracy_Test': 0.9641336461591936}\n"
     ]
    }
   ],
   "source": [
    "print(accuracy_checking(x_new,y_new,DecisionTreeClassifier))\n"
   ]
  },
  {
   "cell_type": "code",
   "execution_count": 277,
   "metadata": {},
   "outputs": [
    {
     "name": "stdout",
     "output_type": "stream",
     "text": [
      "{'Algorithm': 'RandomForestClassifier', 'Accuracy_Train': 1.0, 'Accuracy_Test': 0.981621480709072}\n"
     ]
    }
   ],
   "source": [
    "print(accuracy_checking(x_new,y_new,RandomForestClassifier))\n"
   ]
  },
  {
   "cell_type": "code",
   "execution_count": 278,
   "metadata": {},
   "outputs": [
    {
     "name": "stdout",
     "output_type": "stream",
     "text": [
      "{'Algorithm': 'ExtraTreesClassifier', 'Accuracy_Train': 1.0, 'Accuracy_Test': 0.9852711157455682}\n"
     ]
    }
   ],
   "source": [
    "print(accuracy_checking(x_new,y_new,ExtraTreesClassifier))\n"
   ]
  },
  {
   "cell_type": "code",
   "execution_count": 279,
   "metadata": {},
   "outputs": [
    {
     "name": "stdout",
     "output_type": "stream",
     "text": [
      "{'Algorithm': 'AdaBoostClassifier', 'Accuracy_Train': 0.7753579109730399, 'Accuracy_Test': 0.7763077858880778}\n"
     ]
    }
   ],
   "source": [
    "print(accuracy_checking(x_new,y_new,AdaBoostClassifier))\n"
   ]
  },
  {
   "cell_type": "code",
   "execution_count": 280,
   "metadata": {},
   "outputs": [
    {
     "name": "stdout",
     "output_type": "stream",
     "text": [
      "{'Algorithm': 'GradientBoostingClassifier', 'Accuracy_Train': 0.8186819751906323, 'Accuracy_Test': 0.8214937434827946}\n"
     ]
    }
   ],
   "source": [
    "print(accuracy_checking(x_new,y_new,GradientBoostingClassifier))\n"
   ]
  },
  {
   "cell_type": "code",
   "execution_count": 281,
   "metadata": {},
   "outputs": [
    {
     "name": "stdout",
     "output_type": "stream",
     "text": [
      "{'Algorithm': 'XGBClassifier', 'Accuracy_Train': 0.953145706154548, 'Accuracy_Test': 0.9479275286757038}\n"
     ]
    }
   ],
   "source": [
    "print(accuracy_checking(x_new,y_new,XGBClassifier))\n"
   ]
  },
  {
   "cell_type": "markdown",
   "metadata": {},
   "source": [
    "we got good accuracy after oversampling\n",
    "ExtraTreesClassifier and RandomForestClassifier both have good testing accuracy\n",
    "RandomForestClassifier is good interpretability, so i am selecting the algorithm"
   ]
  },
  {
   "cell_type": "code",
   "execution_count": 282,
   "metadata": {},
   "outputs": [],
   "source": [
    "x_train, x_test, y_train, y_test= train_test_split(x_new, y_new, test_size= 0.2, random_state= 42)\n",
    "\n",
    "model = RandomForestClassifier()\n",
    "\n",
    "model.fit(x_train,y_train)\n",
    "\n",
    "y_pred_train= model.predict(x_train)\n",
    "y_pred_test= model.predict(x_test)"
   ]
  },
  {
   "cell_type": "code",
   "execution_count": 283,
   "metadata": {},
   "outputs": [
    {
     "name": "stdout",
     "output_type": "stream",
     "text": [
      "Accuracy score for Train and Test\n",
      "----------------------------------\n",
      "Accuracy_Train:  1.0\n",
      "Accuracy_Test:  0.9815780326729232\n",
      "  \n",
      "Confution_matrix for Test\n",
      "--------------------------\n",
      "[[22730   272]\n",
      " [  576 22454]]\n",
      " \n",
      "Classification_report for Test\n",
      "-------------------------------\n",
      "              precision    recall  f1-score   support\n",
      "\n",
      "           0       0.98      0.99      0.98     23002\n",
      "           1       0.99      0.97      0.98     23030\n",
      "\n",
      "    accuracy                           0.98     46032\n",
      "   macro avg       0.98      0.98      0.98     46032\n",
      "weighted avg       0.98      0.98      0.98     46032\n",
      "\n"
     ]
    }
   ],
   "source": [
    "accuracy_train= accuracy_score(y_train, y_pred_train)\n",
    "accuracy_test= accuracy_score(y_test, y_pred_test)\n",
    "\n",
    "print(\"Accuracy score for Train and Test\")\n",
    "print(\"----------------------------------\")\n",
    "print(\"Accuracy_Train: \",accuracy_train)\n",
    "print(\"Accuracy_Test: \",accuracy_test)\n",
    "print(\"  \")\n",
    "#confution matrics and the classification report for test\n",
    "\n",
    "print(\"Confution_matrix for Test\")\n",
    "print(\"--------------------------\")\n",
    "print(confusion_matrix(y_true= y_test, y_pred= y_pred_test))\n",
    "print(\" \")\n",
    "print(\"Classification_report for Test\")\n",
    "print(\"-------------------------------\")\n",
    "print(classification_report(y_true= y_test, y_pred= y_pred_test)) "
   ]
  },
  {
   "cell_type": "code",
   "execution_count": 284,
   "metadata": {},
   "outputs": [
    {
     "name": "stdout",
     "output_type": "stream",
     "text": [
      "Won\n"
     ]
    }
   ],
   "source": [
    "user_data = np.array([[30153963, 30, 6, 28, 952, 628377, 5.9, -0.96, 6.46, 1,4,2021,1,1,2021]])\n",
    "y_pred_user= model.predict(user_data)\n",
    "if y_pred_user == 1:\n",
    "    print(\"Won\")\n",
    "else:\n",
    "    print(\"Lost\")"
   ]
  },
  {
   "cell_type": "code",
   "execution_count": 285,
   "metadata": {},
   "outputs": [],
   "source": [
    "#saving the model using the pickle\n",
    "\n",
    "with open(\"Classification_model.pkl\",\"wb\") as f:\n",
    "    pickle.dump(model,f)"
   ]
  },
  {
   "cell_type": "code",
   "execution_count": 286,
   "metadata": {},
   "outputs": [],
   "source": [
    "with open(\"C:\\Shubh Projects DS\\Classification_model.pkl\",\"rb\") as f1:\n",
    "  class_model= pickle.load(f1)"
   ]
  },
  {
   "cell_type": "markdown",
   "metadata": {},
   "source": [
    "Regression Method - Predict the Selling Price\n"
   ]
  },
  {
   "cell_type": "code",
   "execution_count": 287,
   "metadata": {},
   "outputs": [],
   "source": [
    "df_regg= df_final.copy()\n"
   ]
  },
  {
   "cell_type": "code",
   "execution_count": 288,
   "metadata": {},
   "outputs": [
    {
     "data": {
      "text/plain": [
       "(0.9976517375642944, 0.9764474506274305)"
      ]
     },
     "execution_count": 288,
     "metadata": {},
     "output_type": "execute_result"
    }
   ],
   "source": [
    "x = df_regg.drop(columns=['selling_price_log'], axis=1)\n",
    "y = df_regg['selling_price_log']\n",
    "\n",
    "x_train, x_test, y_train, y_test= train_test_split(x,y, test_size= 0.2, random_state= 42)\n",
    "\n",
    "model_r = RandomForestRegressor()\n",
    "\n",
    "model_r.fit(x_train,y_train)\n",
    "\n",
    "y_pred_train= model_r.predict(x_train)\n",
    "y_pred_test= model_r.predict(x_test)\n",
    "\n",
    "\n",
    "r2_train = r2_score(y_train, y_pred_train)\n",
    "r2_test = r2_score(y_test, y_pred_test)\n",
    "r2_train, r2_test"
   ]
  },
  {
   "cell_type": "code",
   "execution_count": 289,
   "metadata": {},
   "outputs": [],
   "source": [
    "x = df_regg.drop(columns=['selling_price_log'], axis=1)\n",
    "y = df_regg['selling_price_log']\n",
    "x_train, x_test, y_train, y_test = train_test_split(x,y,test_size=0.2,random_state=42)\n",
    "\n",
    "\n",
    "model_r = RandomForestRegressor()\n",
    "\n",
    "model_r.fit(x_train,y_train)\n",
    "y_pred = model_r.predict(x_test)"
   ]
  },
  {
   "cell_type": "code",
   "execution_count": 290,
   "metadata": {},
   "outputs": [
    {
     "data": {
      "text/plain": [
       "{'R2': 0.9764915011954368,\n",
       " 'Mean Absolute Error': 0.03489519854898191,\n",
       " 'Mean Squared Error': 0.007784458857446755,\n",
       " 'Root Mean Squared Error': 0.08822958039935787}"
      ]
     },
     "execution_count": 290,
     "metadata": {},
     "output_type": "execute_result"
    }
   ],
   "source": [
    "mse = mean_squared_error(y_test, y_pred)\n",
    "rmse = np.sqrt(mse)\n",
    "r2 = r2_score(y_test, y_pred)\n",
    "mae = mean_absolute_error(y_test, y_pred)\n",
    "\n",
    "metrics_r = {'R2': r2,\n",
    "           'Mean Absolute Error': mae,\n",
    "           'Mean Squared Error': mse,\n",
    "           'Root Mean Squared Error': rmse}\n",
    "\n",
    "metrics_r"
   ]
  },
  {
   "cell_type": "code",
   "execution_count": 291,
   "metadata": {},
   "outputs": [
    {
     "name": "stdout",
     "output_type": "stream",
     "text": [
      "Predicted selling price with Log:  7.224993537761464\n",
      "Predicted selling price without Log:  1373.3297408161413\n"
     ]
    }
   ],
   "source": [
    "user_data = np.array([[30202938,25,1,5,41,1210,1668701718,6.6,-0.2,1,4,2021,1,4,2021]])\n",
    "y_pred = model_r.predict(user_data)\n",
    "print(\"Predicted selling price with Log: \",y_pred[0])\n",
    "print(\"Predicted selling price without Log: \",np.exp(y_pred[0]))"
   ]
  },
  {
   "cell_type": "code",
   "execution_count": 292,
   "metadata": {},
   "outputs": [],
   "source": [
    "with open(\"Regression_Model.pkl\",\"wb\") as r:\n",
    "  pickle.dump(model_r,r)"
   ]
  },
  {
   "cell_type": "code",
   "execution_count": 293,
   "metadata": {},
   "outputs": [],
   "source": [
    "with open(\"C:\\Shubh Projects DS\\Regression_Model.pkl\",\"rb\") as r1:\n",
    "  regg_model=pickle.load(r1)"
   ]
  },
  {
   "cell_type": "code",
   "execution_count": 294,
   "metadata": {},
   "outputs": [
    {
     "data": {
      "text/html": [
       "<div>\n",
       "<style scoped>\n",
       "    .dataframe tbody tr th:only-of-type {\n",
       "        vertical-align: middle;\n",
       "    }\n",
       "\n",
       "    .dataframe tbody tr th {\n",
       "        vertical-align: top;\n",
       "    }\n",
       "\n",
       "    .dataframe thead th {\n",
       "        text-align: right;\n",
       "    }\n",
       "</style>\n",
       "<table border=\"1\" class=\"dataframe\">\n",
       "  <thead>\n",
       "    <tr style=\"text-align: right;\">\n",
       "      <th></th>\n",
       "      <th>country</th>\n",
       "      <th>status</th>\n",
       "      <th>item type</th>\n",
       "      <th>application</th>\n",
       "      <th>width</th>\n",
       "      <th>product_ref</th>\n",
       "      <th>quantity_tons_log</th>\n",
       "      <th>customer_log</th>\n",
       "      <th>thickness_log</th>\n",
       "      <th>selling_price_log</th>\n",
       "      <th>item_date_day</th>\n",
       "      <th>item_date_month</th>\n",
       "      <th>item_date_year</th>\n",
       "      <th>delivery_date_day</th>\n",
       "      <th>delivery_date_month</th>\n",
       "      <th>delivery_date_year</th>\n",
       "    </tr>\n",
       "  </thead>\n",
       "  <tbody>\n",
       "    <tr>\n",
       "      <th>0</th>\n",
       "      <td>28.0</td>\n",
       "      <td>1</td>\n",
       "      <td>5.0</td>\n",
       "      <td>10.0</td>\n",
       "      <td>1500.0</td>\n",
       "      <td>1670798778</td>\n",
       "      <td>3.991779</td>\n",
       "      <td>17.221905</td>\n",
       "      <td>0.693147</td>\n",
       "      <td>6.749931</td>\n",
       "      <td>1</td>\n",
       "      <td>4</td>\n",
       "      <td>2021</td>\n",
       "      <td>1</td>\n",
       "      <td>7</td>\n",
       "      <td>2021</td>\n",
       "    </tr>\n",
       "    <tr>\n",
       "      <th>1</th>\n",
       "      <td>25.0</td>\n",
       "      <td>1</td>\n",
       "      <td>5.0</td>\n",
       "      <td>41.0</td>\n",
       "      <td>1210.0</td>\n",
       "      <td>1668701718</td>\n",
       "      <td>6.643822</td>\n",
       "      <td>17.223450</td>\n",
       "      <td>-0.223144</td>\n",
       "      <td>6.953684</td>\n",
       "      <td>1</td>\n",
       "      <td>4</td>\n",
       "      <td>2021</td>\n",
       "      <td>1</td>\n",
       "      <td>4</td>\n",
       "      <td>2021</td>\n",
       "    </tr>\n",
       "    <tr>\n",
       "      <th>2</th>\n",
       "      <td>25.0</td>\n",
       "      <td>1</td>\n",
       "      <td>5.0</td>\n",
       "      <td>41.0</td>\n",
       "      <td>1265.0</td>\n",
       "      <td>1668701718</td>\n",
       "      <td>5.419608</td>\n",
       "      <td>17.223450</td>\n",
       "      <td>0.405465</td>\n",
       "      <td>6.890609</td>\n",
       "      <td>1</td>\n",
       "      <td>4</td>\n",
       "      <td>2021</td>\n",
       "      <td>1</td>\n",
       "      <td>4</td>\n",
       "      <td>2021</td>\n",
       "    </tr>\n",
       "    <tr>\n",
       "      <th>3</th>\n",
       "      <td>30.0</td>\n",
       "      <td>2</td>\n",
       "      <td>5.0</td>\n",
       "      <td>41.0</td>\n",
       "      <td>1125.0</td>\n",
       "      <td>611993</td>\n",
       "      <td>1.259203</td>\n",
       "      <td>17.223667</td>\n",
       "      <td>-0.967584</td>\n",
       "      <td>2.890372</td>\n",
       "      <td>1</td>\n",
       "      <td>4</td>\n",
       "      <td>2021</td>\n",
       "      <td>1</td>\n",
       "      <td>7</td>\n",
       "      <td>2021</td>\n",
       "    </tr>\n",
       "    <tr>\n",
       "      <th>4</th>\n",
       "      <td>38.0</td>\n",
       "      <td>1</td>\n",
       "      <td>3.0</td>\n",
       "      <td>10.0</td>\n",
       "      <td>1275.0</td>\n",
       "      <td>1668701376</td>\n",
       "      <td>4.235147</td>\n",
       "      <td>17.228025</td>\n",
       "      <td>-0.510826</td>\n",
       "      <td>7.217443</td>\n",
       "      <td>1</td>\n",
       "      <td>4</td>\n",
       "      <td>2021</td>\n",
       "      <td>1</td>\n",
       "      <td>7</td>\n",
       "      <td>2021</td>\n",
       "    </tr>\n",
       "  </tbody>\n",
       "</table>\n",
       "</div>"
      ],
      "text/plain": [
       "   country  status  item type  application   width  product_ref  \\\n",
       "0     28.0       1        5.0         10.0  1500.0   1670798778   \n",
       "1     25.0       1        5.0         41.0  1210.0   1668701718   \n",
       "2     25.0       1        5.0         41.0  1265.0   1668701718   \n",
       "3     30.0       2        5.0         41.0  1125.0       611993   \n",
       "4     38.0       1        3.0         10.0  1275.0   1668701376   \n",
       "\n",
       "   quantity_tons_log  customer_log  thickness_log  selling_price_log  \\\n",
       "0           3.991779     17.221905       0.693147           6.749931   \n",
       "1           6.643822     17.223450      -0.223144           6.953684   \n",
       "2           5.419608     17.223450       0.405465           6.890609   \n",
       "3           1.259203     17.223667      -0.967584           2.890372   \n",
       "4           4.235147     17.228025      -0.510826           7.217443   \n",
       "\n",
       "   item_date_day  item_date_month  item_date_year  delivery_date_day  \\\n",
       "0              1                4            2021                  1   \n",
       "1              1                4            2021                  1   \n",
       "2              1                4            2021                  1   \n",
       "3              1                4            2021                  1   \n",
       "4              1                4            2021                  1   \n",
       "\n",
       "   delivery_date_month  delivery_date_year  \n",
       "0                    7                2021  \n",
       "1                    4                2021  \n",
       "2                    4                2021  \n",
       "3                    7                2021  \n",
       "4                    7                2021  "
      ]
     },
     "execution_count": 294,
     "metadata": {},
     "output_type": "execute_result"
    }
   ],
   "source": [
    "df_final.head()\n"
   ]
  },
  {
   "cell_type": "code",
   "execution_count": 295,
   "metadata": {},
   "outputs": [
    {
     "name": "stdout",
     "output_type": "stream",
     "text": [
      "Predicted selling price with Log:  6.875416056217504\n",
      "Predicted selling price without Log:  968.1780983165943\n"
     ]
    }
   ],
   "source": [
    "user_data = np.array([[28.0,1,5.0,10.0,1500.0,1670798778,3.991779,17.221905,0.693147,1,4,2021,1,7,2021]])\n",
    "y_pred = regg_model.predict(user_data)\n",
    "print(\"Predicted selling price with Log: \",y_pred[0])\n",
    "print(\"Predicted selling price without Log: \",np.exp(y_pred[0]))"
   ]
  },
  {
   "cell_type": "markdown",
   "metadata": {},
   "source": [
    "INDUSTRIAL COPPER MODELING\n",
    "PREDICT STATUS (Won / Lost)\n",
    "Enter the Value for COUNTRY/ Min:25.0, Max:113.0\n",
    "\n",
    "77.00\n",
    "\n",
    "\n",
    "Enter the Value for ITEM TYPE/ Min:0.0, Max:6.0\n",
    "\n",
    "3.00\n",
    "\n",
    "\n",
    "Enter the Value for APPLICATION/ Min:2.0, Max:87.5\n",
    "\n",
    "10.00\n",
    "\n",
    "\n",
    "Enter the Value for WIDTH/ Min:700.0, Max:1980.0\n",
    "\n",
    "1500.00\n",
    "\n",
    "\n",
    "Enter the Value for PRODUCT_REF/ Min:611728, Max:1722207579\n",
    "\n",
    "164141591.00\n",
    "\n",
    "\n",
    "Enter the Value for QUANTITY_TONS (Log Value)/ Min:-0.322, Max:6.924\n",
    "\n",
    "3.677655000000000\n",
    "\n",
    "\n",
    "Enter the Value for CUSTOMER (Log Value)/ Min:17.21910, Max:17.23015\n",
    "\n",
    "17.222225999999999\n",
    "\n",
    "\n",
    "Enter the Value for THICKNESS (Log Value)/ Min:-1.71479, Max:3.28154\n",
    "\n",
    "0.000000000000000\n",
    "\n",
    "\n",
    "Enter the Value for SELLING PRICE (Log Value)/ Min:5.97503, Max:7.39036\n",
    "\n",
    "7.110000000000000\n",
    "\n",
    "\n",
    "Select the Day for ITEM DATE\n",
    "\n",
    "1\n",
    "Select the Month for ITEM DATE\n",
    "\n",
    "4\n",
    "Select the Year for ITEM DATE\n",
    "\n",
    "2021\n",
    "Select the Day for DELIVERY DATE\n",
    "\n",
    "1\n",
    "Select the Month for DELIVERY DATE\n",
    "\n",
    "8\n",
    "Select the Year for DELIVERY DATE\n",
    "\n",
    "2021\n",
    "\n",
    "The Status is LOST"
   ]
  },
  {
   "cell_type": "code",
   "execution_count": null,
   "metadata": {},
   "outputs": [],
   "source": []
  },
  {
   "cell_type": "code",
   "execution_count": null,
   "metadata": {},
   "outputs": [],
   "source": []
  },
  {
   "cell_type": "code",
   "execution_count": null,
   "metadata": {},
   "outputs": [],
   "source": []
  },
  {
   "cell_type": "code",
   "execution_count": null,
   "metadata": {},
   "outputs": [],
   "source": []
  }
 ],
 "metadata": {
  "kernelspec": {
   "display_name": "venv",
   "language": "python",
   "name": "python3"
  },
  "language_info": {
   "codemirror_mode": {
    "name": "ipython",
    "version": 3
   },
   "file_extension": ".py",
   "mimetype": "text/x-python",
   "name": "python",
   "nbconvert_exporter": "python",
   "pygments_lexer": "ipython3",
   "version": "3.12.3"
  }
 },
 "nbformat": 4,
 "nbformat_minor": 2
}
